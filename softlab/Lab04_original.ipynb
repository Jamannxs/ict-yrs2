{
 "cells": [
  {
   "cell_type": "markdown",
   "metadata": {},
   "source": [
    "# Introduction to Signals Processing using Python (Part 1) "
   ]
  },
  {
   "cell_type": "markdown",
   "metadata": {},
   "source": [
    "In this short tutorial, we will quickly go through some basic python programming concepts and signal processing constructs needed to get you started with the case studies. This tutorial assumes that you are somewhat familiar with Python.\n",
    "\n",
    "Every exercise in this week, have to show with Python script in answer as musch as possible.\n",
    "\n",
    "## Python Lists\n",
    "In signal processing, we generally have large number of samples of some signals (e.g. audio signal samples) on which we want to apply some signal processing operator (e.g. convolution, Fourier Transform etc). Before we can apply any operator to our signal samples, we must first store it in memory. In Python, the standard way to store large number of samples in a variable is to use a list data-type, i.e. "
   ]
  },
  {
   "cell_type": "code",
   "execution_count": null,
   "metadata": {},
   "outputs": [],
   "source": [
    "signal = [2.0, 3.0, 1.0, 0.0, 2.0, 4.0]"
   ]
  },
  {
   "cell_type": "code",
   "execution_count": null,
   "metadata": {},
   "outputs": [],
   "source": [
    "print (signal)"
   ]
  },
  {
   "cell_type": "markdown",
   "metadata": {},
   "source": [
    "### Indexing and slicing\n",
    "Python's **list** data type is versatile. It supports *indexing* to refer to some particular sample in the list. List index runs between $0$ and $N-1$, where $N$ is the length of the list. \n",
    "> Caution! This indexing rule is different from Matlab where indexing starts at $1$. \n",
    "\n",
    "Lists can be indexed from the end as well. Index $-1$ referes to the last element, index $-2$ second last and so on. \n",
    "\n",
    "List *slicing* can be used to extract subparts of a list, and store it in a new list variable. List slicing follow the general syntax *[start: stop: step=1]* to slice out elements from *start* to *stop-1* with a stride length of *step*. You can omit *start* and *stop* values, and  they will default to the beginning and end of the list respectively. Default value for *step* is $1$, and it can also be omitted. "
   ]
  },
  {
   "cell_type": "code",
   "execution_count": null,
   "metadata": {},
   "outputs": [],
   "source": [
    "print (signal[0:3]) # 0th, 1st and 2nd values"
   ]
  },
  {
   "cell_type": "code",
   "execution_count": null,
   "metadata": {},
   "outputs": [],
   "source": [
    "sig2 = signal[:-2:] # from the start uptil -3rd element (i.e. drop last two samples)\n",
    "print (sig2)"
   ]
  },
  {
   "cell_type": "code",
   "execution_count": null,
   "metadata": {},
   "outputs": [],
   "source": [
    "print (signal[::2]) # Every other element starting from the beginning "
   ]
  },
  {
   "cell_type": "markdown",
   "metadata": {},
   "source": [
    "### List comprehensions \n",
    "To create specific list sequence and do operations on lists, Python provide intuitive list comprehension statements which are much like the mathematical way of thinking about vectors or collection of samples. This can be best understood with few examples: \n",
    "\n",
    "$f[n] = 2n^3 + 3n -4 \\quad n \\in [0,10]$"
   ]
  },
  {
   "cell_type": "code",
   "execution_count": null,
   "metadata": {},
   "outputs": [],
   "source": [
    "lst1 = [2*n**3 + 3*n - 4 for n in range(11)]\n",
    "print(lst1)"
   ]
  },
  {
   "cell_type": "markdown",
   "metadata": {},
   "source": [
    "So, list comprehensions go between square brackets $[...]$, similar to how we initialize list with specific numbers.  Then we specify the equation we want to evaluate in terms of our sequence variable (iterator) $n$, and finally we specify the range over which $n$ varies.\n",
    "\n",
    "The **range** is a built-in python function which is used to generate arithmetic sequence and its argument are:\n",
    "* **range**(*stop*)\n",
    "* **range**(*start, stop[, step=1]*)\n",
    "\n",
    "and as you probably might have already guessed that the *range$(N)$* generate sequence $0,1, \\ldots N-1$. \n",
    "\n",
    "Supposed, we want to apply some function (our favourite is $\\sin$) to our list, e.g. \n",
    "\n",
    "$$ \\begin{equation}\n",
    "f(n) = sin(2\\pi fn) \\quad n \\in [0,10] \n",
    "\\end{equation}$$\n"
   ]
  },
  {
   "cell_type": "code",
   "execution_count": null,
   "metadata": {},
   "outputs": [],
   "source": [
    "from math import pi, sin\n",
    "f = 0.2 # 1/5 Hz\n",
    "lst2 = [sin(2*pi*f*n) for n in range(10)]\n",
    "print (lst2)\n"
   ]
  },
  {
   "cell_type": "markdown",
   "metadata": {},
   "source": [
    "But, Python's lists have some limitations from signal processing perspective.  One prominent limitation is that we cannot directly apply functions like $\\sin$ or $\\exp$ on all the elements of a list without using a  **for** loop list construct (as shown above) every time. As, we will be working with large number of signal samples all the time, it would be much easier if we could directly use something like $\\sin$(lst1) to compute sine of all the elements in the list1.\n",
    "\n",
    "In the next part of this tutorial, you will learn about an N-dimensional array data-type defined in Python's **NumPy** library (http://www.numpy.org/) which provides the facility to perform operations directly on all the samples in the array, and the library also provides predefined linear algebra constructs like dot products, matrix multiplication and inversion which we will be using quite often. Numpy Ndarrays suit ideally for all our signal processing needs, and as they are similar to the native list data-types, they support same indexing and slicing operations. We will use Nd-arrays from now on to model our signals. \n",
    "\n",
    "Python's utility for signal processing and scientific computing is greatly enhanced by open source and freely available libraries like **NumPy**, **SciPy**, **Matplotlib** and **IPython** and we will have an opportunity to use some functionalities from all of these libraries to do our signal processing work. \n"
   ]
  },
  {
   "cell_type": "markdown",
   "metadata": {},
   "source": []
  },
  {
   "cell_type": "markdown",
   "metadata": {},
   "source": [
    "### Exercise 1\n",
    "\n",
    "Show to how to generate values of sin wave 5Hz, ampliture 220 from 0 second to 2 second by using list comprehensions."
   ]
  },
  {
   "cell_type": "markdown",
   "metadata": {},
   "source": [
    "# Introduction to signal processing using Python (part 2)"
   ]
  },
  {
   "cell_type": "markdown",
   "metadata": {},
   "source": [
    "In this part, you will learn about numpy ndarrays (1D and 2D), few useful functions that numpy provides for arithmetic operations and linear algebra. In the next part, you will learn how to plot array of values using matplotlib. \n",
    "\n",
    "## Numpy arrays \n",
    "Numpy's ndarray data type provides the facility to define 1D, 2D or ND arrays easily in Python, and apply linear algebra and signal processing operator on them directly. Before we can use any of numpy facilities, we need to import it. It is a convention that we generally import numpy as np. "
   ]
  },
  {
   "cell_type": "code",
   "execution_count": null,
   "metadata": {},
   "outputs": [],
   "source": [
    "import numpy as np\n",
    "ar1 = np.array([2,3,5,7,0])\n",
    "ar1"
   ]
  },
  {
   "cell_type": "markdown",
   "metadata": {},
   "source": [
    "**array** is the basic function you can use to create numpy arrays, and <b> you can pass it any python list</b> you want to convert to numpy arrays. \n",
    "\n",
    " Numpy's **arange** function can be used to create equally spaced sequence (arithmetic sequences) similar to Python's in-built **range** function. The argument of the function is similar *$arange(start, stop, [step=1.0])$*. This function is really handy to create equally spaced time or frequency axis variables. "
   ]
  },
  {
   "cell_type": "code",
   "execution_count": null,
   "metadata": {},
   "outputs": [],
   "source": [
    "ar2 = np.arange(0,4,0.2) # equally spaced sequence from 0 (included) to 4 (excluded) with 0.2 as step size\n",
    "print (ar2)"
   ]
  },
  {
   "cell_type": "markdown",
   "metadata": {},
   "source": [
    "Some other useful numpy functions are $np.zeros(shape)$ to create all zeros array, $np.ones(shape)$ to create all ones array, and $np.random.random(shape)$ to create array with entries drawn from a continuous uniform random variable in the range $[0,1)$."
   ]
  },
  {
   "cell_type": "code",
   "execution_count": null,
   "metadata": {},
   "outputs": [],
   "source": [
    "ar3 = np.zeros(6)\n",
    "print (ar3)"
   ]
  },
  {
   "cell_type": "code",
   "execution_count": null,
   "metadata": {},
   "outputs": [],
   "source": [
    "ar4 = np.ones(10)\n",
    "print (ar4)"
   ]
  },
  {
   "cell_type": "code",
   "execution_count": null,
   "metadata": {},
   "outputs": [],
   "source": [
    "ar5 = np.random.random(6)\n",
    "print (ar5)"
   ]
  },
  {
   "cell_type": "markdown",
   "metadata": {},
   "source": [
    "Some useful numpy array (ndarray) attributes are:\n",
    "1. ndarray.size: the total number of elements of the array\n",
    "2. ndarray.dtype: the datatype used to store numerical values "
   ]
  },
  {
   "cell_type": "code",
   "execution_count": null,
   "metadata": {},
   "outputs": [],
   "source": [
    "ar5.size"
   ]
  },
  {
   "cell_type": "code",
   "execution_count": null,
   "metadata": {},
   "outputs": [],
   "source": [
    "ar5.dtype"
   ]
  },
  {
   "cell_type": "markdown",
   "metadata": {},
   "source": [
    "## Basic numpy operations \n",
    "You can use basic arithmetic operators $(+,-,*,/,\\%)$ on numpy arrays, and <b> the operator will act naturally on all the elements of the array</b>, e.g."
   ]
  },
  {
   "cell_type": "code",
   "execution_count": null,
   "metadata": {},
   "outputs": [],
   "source": [
    "n = np.arange(11)\n",
    "fn = 2*n**3 + 3*n - 4\n",
    "print (fn)"
   ]
  },
  {
   "cell_type": "markdown",
   "metadata": {},
   "source": [
    "Similarly, functions like $\\sin, \\cos, \\log, \\exp$ can all be applied directly on the numpy array object, and the function will naturally be applied to each element of the array to compute the output, e.g."
   ]
  },
  {
   "cell_type": "code",
   "execution_count": null,
   "metadata": {},
   "outputs": [],
   "source": [
    "f = 1 #Hz\n",
    "t = np.arange(0,1,0.01)\n",
    "x = 5*np.sin(2*np.pi*f*t)"
   ]
  },
  {
   "cell_type": "markdown",
   "metadata": {},
   "source": [
    "And, you can directly now plot this sine wave signal using **matplotlib** library. We will discuss the details about plotting in the next part, but just to show how it can easily be done. "
   ]
  },
  {
   "cell_type": "code",
   "execution_count": null,
   "metadata": {},
   "outputs": [],
   "source": [
    "import matplotlib.pyplot as plt\n",
    "%matplotlib inline\n",
    "plt.plot(t,x)\n",
    "plt.grid()\n",
    "plt.xlabel('Time (s)')\n",
    "plt.ylabel('Simple sine (1 Hz)')\n",
    "plt.ylim(-5,5)\n",
    "plt.show()"
   ]
  },
  {
   "cell_type": "markdown",
   "metadata": {},
   "source": [
    "And, you also have access to simple statistics functions "
   ]
  },
  {
   "cell_type": "code",
   "execution_count": null,
   "metadata": {},
   "outputs": [],
   "source": [
    "np.mean(x) # should be close to 0. "
   ]
  },
  {
   "cell_type": "code",
   "execution_count": null,
   "metadata": {},
   "outputs": [],
   "source": [
    "np.max(x) - np.min(x) # amplitude "
   ]
  },
  {
   "cell_type": "code",
   "execution_count": null,
   "metadata": {},
   "outputs": [],
   "source": [
    "np.std(x) # rms value "
   ]
  },
  {
   "cell_type": "markdown",
   "metadata": {},
   "source": [
    "### Exercise 2\n",
    "Show to how plot graph of sin wave $5Hz$, ampliture $220\\sqrt{2}$ from $0$ second to $2$ second"
   ]
  },
  {
   "cell_type": "markdown",
   "metadata": {},
   "source": [
    "How many complete cycles in one second?\n",
    "\n",
    "What is V rms value of the signal?\n",
    "\n",
    "What is average value of the signal?\n",
    "\n",
    "\n"
   ]
  },
  {
   "cell_type": "markdown",
   "metadata": {},
   "source": []
  },
  {
   "cell_type": "markdown",
   "metadata": {},
   "source": [
    "## 2D numpy array (matrix)\n",
    "Till now, we have only looked at examples of 1D numpy arrays. But, numpy supports 2D arrays (or matrix) as well. A simple way to initialize a 2D array is to use $np.array$ function and pass it a list of lists, i.e. "
   ]
  },
  {
   "cell_type": "code",
   "execution_count": null,
   "metadata": {},
   "outputs": [],
   "source": [
    "mat1 = np.array([[3,4,1],[3,6,1]])\n",
    "mat1"
   ]
  },
  {
   "cell_type": "code",
   "execution_count": null,
   "metadata": {},
   "outputs": [],
   "source": [
    "mat1.shape # 1st dimension is number of rows, 2nd dimension is number of cols"
   ]
  },
  {
   "cell_type": "code",
   "execution_count": null,
   "metadata": {
    "scrolled": true
   },
   "outputs": [],
   "source": [
    "mat1.ndim "
   ]
  },
  {
   "cell_type": "markdown",
   "metadata": {},
   "source": [
    "You can also use other numpy functions like $np.zeros, np.ones$ and pass them the shape of the desired 2D array as a tuple, e.g. "
   ]
  },
  {
   "cell_type": "code",
   "execution_count": null,
   "metadata": {},
   "outputs": [],
   "source": [
    "mat2 = np.ones((4,3))\n",
    "mat2"
   ]
  },
  {
   "cell_type": "code",
   "execution_count": null,
   "metadata": {},
   "outputs": [],
   "source": [
    "mat3 = np.random.random(mat2.shape)\n",
    "print (mat3)"
   ]
  },
  {
   "cell_type": "markdown",
   "metadata": {},
   "source": [
    "Another useful way of creating 2D arrays is to use the $reshape$ attribute to change the shape of an ndarray, e.g."
   ]
  },
  {
   "cell_type": "code",
   "execution_count": null,
   "metadata": {},
   "outputs": [],
   "source": [
    "mat4 = np.arange(10).reshape((2,5))\n",
    "mat4"
   ]
  },
  {
   "cell_type": "markdown",
   "metadata": {},
   "source": [
    "But, you have to be careful that the dimension must match, i.e. $10=2\\times5$\n"
   ]
  },
  {
   "cell_type": "markdown",
   "metadata": {},
   "source": [
    "### Exercise 3\n",
    "Create $I$, identity matrix diemension (2x2) using np.ones()\n",
    "\n",
    "Given $$\n",
    "\\begin{bmatrix}\n",
    " 2 & 3\\\\\n",
    " 5 & 1\n",
    "\\end{bmatrix}\n",
    "$$\n",
    "\n",
    "Show result in python of $AI$ if A.dot(B) in numpy is $A*B$ matrix multiplication"
   ]
  },
  {
   "cell_type": "markdown",
   "metadata": {},
   "source": []
  },
  {
   "cell_type": "markdown",
   "metadata": {},
   "source": [
    "At this point, you are finished Milestone #1 (check out)"
   ]
  },
  {
   "cell_type": "markdown",
   "metadata": {},
   "source": [
    "## Numpy indexing, slicing, and iterations\n",
    "\n",
    "Numpy indexing and slicing works similar to indexing and slicing in Python's list. Index in any dimension starts from $0$ and runs till $N-1$ where $N$ is the length of the array in that dimension. For slicing in any dimension, you can use $[start: stop: step=1]$. Thus, for 1D arrays you can simply use"
   ]
  },
  {
   "cell_type": "code",
   "execution_count": null,
   "metadata": {},
   "outputs": [],
   "source": [
    "ar1 = np.array([0,2,5,1,6,3])\n",
    "ar1[-1] # Last element "
   ]
  },
  {
   "cell_type": "code",
   "execution_count": null,
   "metadata": {},
   "outputs": [],
   "source": [
    "ar1[0:5:2] # 0th, 2nd, 4th element. "
   ]
  },
  {
   "cell_type": "markdown",
   "metadata": {},
   "source": [
    "For N dimensional array, you need to specify the index or slicing for each dimension separated by commas. E.g. for 2D arrays, specify first the $0th$ dimension (row) index, then $1st$ dimension (column) index, i.e. "
   ]
  },
  {
   "cell_type": "code",
   "execution_count": null,
   "metadata": {},
   "outputs": [],
   "source": [
    "ar2 = np.arange(15).reshape(3,5)\n",
    "ar2[2,4]"
   ]
  },
  {
   "cell_type": "code",
   "execution_count": null,
   "metadata": {},
   "outputs": [],
   "source": [
    "ar2[:2,1:4] # 0th, 2nd rsectionow, 1st, 2nd, 3rd column"
   ]
  },
  {
   "cell_type": "markdown",
   "metadata": {},
   "source": [
    "You can easily iterate over 2D arrays by thinking of them as list of lists, e.g."
   ]
  },
  {
   "cell_type": "code",
   "execution_count": null,
   "metadata": {},
   "outputs": [],
   "source": [
    "for row in ar2: # 2D arrays are lists of lists (rows)\n",
    "    print (row)"
   ]
  },
  {
   "cell_type": "markdown",
   "metadata": {},
   "source": [
    "and if you want to iterate over each element of a 2D matrix, you can use "
   ]
  },
  {
   "cell_type": "code",
   "execution_count": null,
   "metadata": {},
   "outputs": [],
   "source": [
    "for num in ar2.flat: # it flattens the 2D matrix to a 1D array \n",
    "    print (num,)"
   ]
  },
  {
   "cell_type": "markdown",
   "metadata": {},
   "source": [
    "> Caution! numpy makes a distinction between 1D arrays and 2D arrays, and so $np.zeros(3)$ is not same as $np.zeros((3,1))$, even when they appear same. To be precise numpy treats $np.zeros((3,1))$ as a column matrix. But, $np.zeros(3)$ is niether a column or a row matrix, it is just a 1D array, and so many matrix operations are not well defined for 1D numpy array.\n",
    "\n",
    "> We can convert any 1D numpy array to 2D row or column matrix easily as show below. This will be important for applying linear algebra routines correctly. "
   ]
  },
  {
   "cell_type": "code",
   "execution_count": null,
   "metadata": {},
   "outputs": [],
   "source": [
    "a = np.empty(5) # 1D array \n",
    "a_col_mat = a[:,np.newaxis] # Convert 1D array to 2D column matrix \n",
    "a_row_mat = a[np.newaxis,:] # Convert 1D array to 2D row matrix \n",
    "print (a_col_mat)\n",
    "print (a_row_mat)"
   ]
  },
  {
   "cell_type": "markdown",
   "metadata": {},
   "source": [
    "### Exercis 4\n",
    "What is np.empty() do?\n",
    "\n",
    "Can we reshape a to 2x2 matrix? Why?"
   ]
  },
  {
   "cell_type": "markdown",
   "metadata": {},
   "source": [
    "## Linear algebra operations \n",
    "Basic linear algebra operations are needed to effectively apply signal processing algorithms. Numpy provides support for key linear algebra functions. \n",
    "\n",
    "1. Dot product, matrix multiplication: $np.dot$ [Read Docs](http://docs.scipy.org/doc/numpy/reference/generated/numpy.dot.html#numpy.dot)\n",
    "2. Determinant: $np.linalg.det$ [Read Docs](http://docs.scipy.org/doc/numpy/reference/generated/numpy.linalg.det.html#numpy.linalg.det)\n",
    "3. Vector norm: $np.linalg.norm$ [Read Docs](http://docs.scipy.org/doc/numpy/reference/generated/numpy.linalg.norm.html#numpy.linalg.norm)\n",
    "4. Trace: $np.trace$ [Read docs](http://docs.scipy.org/doc/numpy/reference/generated/numpy.trace.html#numpy.trace)\n",
    "5. Matrix inverse: $np.linalg.inv$ [Read Docs](http://docs.scipy.org/doc/numpy/reference/generated/numpy.linalg.inv.html#numpy.linalg.inv) \n",
    "> Tip: You can type any Python / numpy function followed by a question mark (?) and press Enter to see the docs directly in the IPython terminal. "
   ]
  },
  {
   "cell_type": "code",
   "execution_count": null,
   "metadata": {},
   "outputs": [],
   "source": [
    "Python /np.ones?"
   ]
  },
  {
   "cell_type": "markdown",
   "metadata": {},
   "source": [
    "## Representing Systems of Linear Equations using Matrices\n",
    "A system of linear equations can be represented in matrix form using a coefficient matrix. \n",
    "Consider the system:\n",
    "$$\n",
    "\\begin{align*}\n",
    "    2x_1+ 3x_2 &= 8 \\\\\n",
    "    5x_1-x_2 &= -2\n",
    "\\end{align*} \n",
    "$$\n",
    "The coefficient matrix can be formed by aligning the coefficients of the variables of each equation in a row. Make sure that each equation is written in standard form with the constant term on right.\n",
    "\n",
    "Then, the coefficient matrix($\\textbf{A}$) for the above system is\n",
    "$$\n",
    "\\begin{bmatrix}\n",
    " 2 & 3\\\\\n",
    " 5 & 1\n",
    "\\end{bmatrix}\n",
    "$$\n",
    "\n",
    "The variables we have are $x_1$ and $x_2$ . So we can write the variable vector($\\textbf{x}$) as\n",
    "$\n",
    "\\begin{bmatrix}\n",
    "x_1 \\\\ x_2\n",
    "\\end{bmatrix}\n",
    "$\n",
    "\n",
    "On the right side of the equality we have the constant terms of the equations, 8 and −2.\n",
    " Vector($\\textbf{b}$) take the places at the first and the second rows in the constant matrix. \n",
    " So, the vector($\\textbf{b}$) becomes\n",
    "$\n",
    "\\begin{bmatrix}\n",
    "8 \\\\ 2\n",
    "\\end{bmatrix}\n",
    "$\n",
    "\n",
    "Now, the system can be represented as $\\textbf{Ax=b}$ as \n",
    "$$\n",
    "\\begin{bmatrix}\n",
    " 2 & 3\\\\\n",
    " 5 & 1\n",
    "\\end{bmatrix}\n",
    "\\begin{bmatrix}\n",
    "x_1 \\\\ x_2\n",
    "\\end{bmatrix}=\n",
    "\\begin{bmatrix}\n",
    "8 \\\\  2\n",
    "\\end{bmatrix}\n",
    "$$"
   ]
  },
  {
   "cell_type": "markdown",
   "metadata": {},
   "source": []
  },
  {
   "cell_type": "code",
   "execution_count": null,
   "metadata": {},
   "outputs": [],
   "source": [
    "import numpy as np\n",
    "A = np.array([[2,3],  \n",
    "            [5, 1]])\n",
    "b = np.array([[8,2]]).T"
   ]
  },
  {
   "cell_type": "markdown",
   "metadata": {},
   "source": [
    "### Exercise 5\n",
    "Explain the object of <b>np.array().T </b>\n",
    "\n",
    "    \n",
    "Show result of $(A^{-1})^T$ and $ (A^T)^{-1}$ for\n",
    "\n",
    "$$ \n",
    "A=\n",
    "\\begin{bmatrix}\n",
    " 2 & 3\\\\\n",
    " 5 & 1\n",
    "\\end{bmatrix}\n",
    "$$"
   ]
  },
  {
   "cell_type": "code",
   "execution_count": null,
   "metadata": {},
   "outputs": [],
   "source": [
    "print(A), print(b)"
   ]
  },
  {
   "cell_type": "code",
   "execution_count": null,
   "metadata": {},
   "outputs": [],
   "source": [
    "print('Determinant of A is none zero', np.linalg.det(A))"
   ]
  },
  {
   "cell_type": "markdown",
   "metadata": {},
   "source": [
    "### Exercise 6\n",
    "Why we need to check determinant of matrix<b> A </b> ?"
   ]
  },
  {
   "cell_type": "markdown",
   "metadata": {},
   "source": [
    "Why we need to find out $A^{-1}$?"
   ]
  },
  {
   "cell_type": "markdown",
   "metadata": {},
   "source": []
  },
  {
   "cell_type": "code",
   "execution_count": null,
   "metadata": {},
   "outputs": [],
   "source": [
    "A_inv = np.linalg.inv(A)"
   ]
  },
  {
   "cell_type": "code",
   "execution_count": null,
   "metadata": {},
   "outputs": [],
   "source": [
    "x = A_inv.dot(b)"
   ]
  },
  {
   "cell_type": "markdown",
   "metadata": {},
   "source": []
  },
  {
   "cell_type": "markdown",
   "metadata": {},
   "source": [
    "### Exercise 7\n",
    "Supposed A, B are matrixes, A.dot(B) in python is $A*B$ in mathermatics.\n",
    "\n",
    "What is the result of $Ax$?\n",
    "\n",
    "\n",
    "Are they equal $b$?"
   ]
  },
  {
   "cell_type": "markdown",
   "metadata": {},
   "source": [
    "### At this point, you are finished Milestone #2 (check out)"
   ]
  },
  {
   "cell_type": "markdown",
   "metadata": {},
   "source": [
    "#### Matrix A translated input vector x to output vector b\n",
    "\n",
    "We can use plt.quiver()  to draw vectors. Given $ Ax = b$ that means matrix A translates vector x to vector b."
   ]
  },
  {
   "cell_type": "code",
   "execution_count": null,
   "metadata": {},
   "outputs": [],
   "source": [
    "plt.quiver([0, 0], [0, 0], x, b, angles='xy',scale_units='xy', scale=1,color=['r','b'])\n",
    "plt.xlim(-8,8)\n",
    "plt.ylim(-8,8)\n",
    "plt.grid(b=True, which='major') #<-- plot grid lines"
   ]
  },
  {
   "cell_type": "markdown",
   "metadata": {},
   "source": [
    "#### Exercise 8\n",
    "Show the matrix ($Z$) that can  translate vector $b$ to vector $x$\n",
    "\n",
    "Proof  $Z*b =x$ using Python numpy"
   ]
  },
  {
   "cell_type": "markdown",
   "metadata": {},
   "source": [
    "### Matrix Eigenvalues and Eigenvectors\n"
   ]
  },
  {
   "cell_type": "markdown",
   "metadata": {},
   "source": [
    "What is the vector when translated by matrix A, it is scale multication of the vector.\n",
    "For any given matrix A, are there any vector u when multiply by A will got the same vector but scaled."
   ]
  },
  {
   "cell_type": "markdown",
   "metadata": {},
   "source": [
    "A eigenvalue $\\lambda$ and eigenvector $\\textbf{u}$ satifie\n",
    "$$ Au = \\lambda u $$\n",
    "where $\\textbf{A}$ is square matrix and <b>$\\lambda$</b> is constant number.\n",
    "\n",
    "Or multiplying <b>$u$</b> by <b>$A$</b> likes scaling <b>$u$</b> by <b>$\\lambda$</b>"
   ]
  },
  {
   "cell_type": "markdown",
   "metadata": {},
   "source": [
    "## Basic Operation on Eigenvalues and Eigenvectors"
   ]
  },
  {
   "cell_type": "markdown",
   "metadata": {},
   "source": [
    "$$\n",
    "A =\n",
    "\\begin{bmatrix}\n",
    " 2 & 3\\\\\n",
    " 5 & 1\n",
    "\\end{bmatrix}\n",
    "$$\n",
    "\n",
    "\n"
   ]
  },
  {
   "cell_type": "code",
   "execution_count": null,
   "metadata": {},
   "outputs": [],
   "source": [
    "eigvals, eigvecs = np.linalg.eig(A)\n",
    "Au = A.dot(eigvecs[:,0])\n",
    "lambda_b = eigvals[0]*eigvecs[:,0]"
   ]
  },
  {
   "cell_type": "markdown",
   "metadata": {},
   "source": [
    "There are mort than one eigen values and eigen vectors of matrix A."
   ]
  },
  {
   "cell_type": "code",
   "execution_count": null,
   "metadata": {},
   "outputs": [],
   "source": [
    "plt.quiver([0, 0], [0, 0], Au, lambda_b, angles='xy',scale_units='xy', scale=1,color=['r','b'])\n",
    "plt.xlim(-8,8)\n",
    "plt.ylim(-8,8)\n",
    "plt.grid(b=True, which='major') #<-- plot grid lines"
   ]
  },
  {
   "cell_type": "markdown",
   "metadata": {},
   "source": [
    "### Exercise 9\n",
    "Show other eigen value and eigen vector of matrix A \n",
    "$$\n",
    "A =\n",
    "\\begin{bmatrix}\n",
    " 2 & 3\\\\\n",
    " 5 & 1\n",
    "\\end{bmatrix}\n",
    "$$\n",
    "\n",
    "\n"
   ]
  },
  {
   "cell_type": "markdown",
   "metadata": {},
   "source": [
    "Plot those vector, $A*u$ and $\\lambda * u$ using plt.quiver()"
   ]
  },
  {
   "cell_type": "markdown",
   "metadata": {},
   "source": [
    "Reference Source:\n",
    "\n",
    "    https://github.com/mayankgrd/signal-processing-python-tutorial"
   ]
  }
 ],
 "metadata": {
  "kernelspec": {
   "display_name": "Python 3",
   "language": "python",
   "name": "python3"
  },
  "language_info": {
   "codemirror_mode": {
    "name": "ipython",
    "version": 3
   },
   "file_extension": ".py",
   "mimetype": "text/x-python",
   "name": "python",
   "nbconvert_exporter": "python",
   "pygments_lexer": "ipython3",
   "version": "3.8.3"
  }
 },
 "nbformat": 4,
 "nbformat_minor": 1
}