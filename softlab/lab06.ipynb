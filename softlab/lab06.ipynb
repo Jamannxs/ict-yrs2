{
 "cells": [
  {
   "cell_type": "code",
   "execution_count": 1,
   "metadata": {},
   "outputs": [],
   "source": [
    "# Exercise 1\n",
    "\n",
    "import scipy\n",
    "from scipy.cluster.vq import kmeans,vq,whiten\n",
    "# Score of 20 students in on subjects\n",
    "student_scores = [[80], [78], [55], [60], [62],\n",
    "                  [59], [48], [49], [51], [54],\n",
    "                  [72], [95], [78], [54], [50],\n",
    "                  [61], [57], [56], [65], [53]];"
   ]
  },
  {
   "cell_type": "code",
   "execution_count": 2,
   "metadata": {},
   "outputs": [
    {
     "name": "stdout",
     "output_type": "stream",
     "text": [
      "[[6.53573177]\n",
      " [6.37233848]\n",
      " [4.49331559]\n",
      " [4.90179883]\n",
      " [5.06519213]\n",
      " [4.82010218]\n",
      " [3.92143906]\n",
      " [4.00313571]\n",
      " [4.16652901]\n",
      " [4.41161895]\n",
      " [5.8821586 ]\n",
      " [7.76118148]\n",
      " [6.37233848]\n",
      " [4.41161895]\n",
      " [4.08483236]\n",
      " [4.98349548]\n",
      " [4.65670889]\n",
      " [4.57501224]\n",
      " [5.31028207]\n",
      " [4.3299223 ]]\n",
      "[[6.58474976]\n",
      " [4.54233358]]\n"
     ]
    }
   ],
   "source": [
    "# Exercise 2\n",
    "\n",
    "student_scores = whiten(student_scores)\n",
    "centroids,_ = kmeans(student_scores,2)\n",
    "\n",
    "print(student_scores)\n",
    "\n",
    "print(centroids)"
   ]
  },
  {
   "cell_type": "code",
   "execution_count": 3,
   "metadata": {},
   "outputs": [
    {
     "name": "stdout",
     "output_type": "stream",
     "text": [
      "[0 0 1 1 1 1 1 1 1 1 0 0 0 1 1 1 1 1 1 1]\n"
     ]
    }
   ],
   "source": [
    "# Exercise 3\n",
    "\n",
    "result,_ = vq(student_scores, centroids)\n",
    "\n",
    "print(result)"
   ]
  },
  {
   "cell_type": "markdown",
   "metadata": {},
   "source": [
    "- try to find center(centroid) of this data form whiten process which is each feature is divided by its standard deviation across all observations to give it unit variance."
   ]
  },
  {
   "cell_type": "code",
   "execution_count": 4,
   "metadata": {},
   "outputs": [
    {
     "name": "stdout",
     "output_type": "stream",
     "text": [
      "[[6.53573177]\n",
      " [6.37233848]\n",
      " [4.49331559]\n",
      " [4.90179883]\n",
      " [5.06519213]\n",
      " [4.82010218]\n",
      " [3.92143906]\n",
      " [4.00313571]\n",
      " [4.16652901]\n",
      " [4.41161895]\n",
      " [5.8821586 ]\n",
      " [7.76118148]\n",
      " [6.37233848]\n",
      " [4.41161895]\n",
      " [4.08483236]\n",
      " [4.98349548]\n",
      " [4.65670889]\n",
      " [4.57501224]\n",
      " [5.31028207]\n",
      " [4.3299223 ]]\n",
      "[[4.22780149]\n",
      " [7.76118148]\n",
      " [4.90179883]\n",
      " [6.29064183]]\n",
      "[3 3 0 2 2 2 0 0 0 0 3 1 3 0 0 2 2 2 2 0]\n"
     ]
    }
   ],
   "source": [
    "# Exercise 4\n",
    "\n",
    "student_scores = whiten(student_scores)\n",
    "centroids,_ = kmeans(student_scores,4)\n",
    "result,_ = vq(student_scores, centroids)\n",
    "print(student_scores)\n",
    "print(centroids)\n",
    "print(result)"
   ]
  },
  {
   "cell_type": "code",
   "execution_count": 6,
   "metadata": {},
   "outputs": [
    {
     "name": "stdout",
     "output_type": "stream",
     "text": [
      "[[6.53573177 5.57942592]\n",
      " [6.37233848 4.33955349]\n",
      " [4.49331559 4.9594897 ]\n",
      " [4.90179883 4.72701362]\n",
      " [5.06519213 3.4871412 ]\n",
      " [4.82010218 5.50193389]\n",
      " [3.92143906 6.58682226]\n",
      " [4.00313571 3.4871412 ]\n",
      " [4.16652901 4.26206146]\n",
      " [4.41161895 4.80450565]\n",
      " [5.8821586  6.27685415]\n",
      " [7.76118148 6.27685415]\n",
      " [6.37233848 7.12926645]\n",
      " [4.41161895 6.19936213]\n",
      " [4.08483236 3.87460133]\n",
      " [4.98349548 5.03698173]\n",
      " [4.65670889 4.80450565]\n",
      " [4.57501224 4.26206146]\n",
      " [5.31028207 4.88199768]\n",
      " [4.3299223  5.57942592]]\n",
      "[[6.58474976 5.92039083]\n",
      " [4.79676028 4.9594897 ]\n",
      " [4.37894029 3.87460133]\n",
      " [4.22099344 6.1218701 ]]\n",
      "[0 0 1 1 2 1 3 2 2 1 0 0 0 3 2 1 1 2 1 3]\n"
     ]
    }
   ],
   "source": [
    "# Exercise 5\n",
    "\n",
    "student_scores = [[80 , 72] , [78 , 56] , [55 , 64] , [60 , 61] , [62 , 45] ,\n",
    "                  [59 , 71] , [48 , 85] , [49 , 45] , [51 , 55] , [54 , 62] ,\n",
    "                  [72 , 81] , [95 , 81] , [78 , 92] , [54 , 80] , [50 , 50] ,\n",
    "                  [61 , 65] , [57 , 62] , [56 , 55] , [65 , 63] , [53 , 72]];\n",
    "\n",
    "student_scores = whiten(student_scores)\n",
    "centroids,_ = kmeans(student_scores,4)\n",
    "result,_ = vq(student_scores, centroids)\n",
    "print(student_scores)\n",
    "print(centroids)\n",
    "print(result)"
   ]
  },
  {
   "cell_type": "markdown",
   "metadata": {},
   "source": [
    "- whiten the following data and sperate to 4 group of kmean and assign the code of the closet centroid"
   ]
  },
  {
   "cell_type": "code",
   "execution_count": 9,
   "metadata": {},
   "outputs": [
    {
     "name": "stdout",
     "output_type": "stream",
     "text": [
      "The PI is 3.1415926535897931\n",
      "The speed of light is c = 299792458.0\n",
      "The newton ’s gravity constant is G = 9.8\n"
     ]
    }
   ],
   "source": [
    "# Exercise 6\n",
    "\n",
    "import scipy.constants\n",
    "\n",
    "print (\"The PI is %.16f\"% scipy.constants.pi)\n",
    "print (\"The speed of light is c = %.1F\"% scipy.constants.c)\n",
    "print (\"The newton ’s gravity constant is G = %.1F\"% scipy.constants.g)"
   ]
  },
  {
   "cell_type": "code",
   "execution_count": 11,
   "metadata": {},
   "outputs": [
    {
     "data": {
      "text/plain": [
       "['atomic mass unit-kilogram relationship',\n",
       " 'electron volt-kilogram relationship',\n",
       " 'hartree-kilogram relationship',\n",
       " 'hertz-kilogram relationship',\n",
       " 'inverse meter-kilogram relationship',\n",
       " 'joule-kilogram relationship',\n",
       " 'kelvin-kilogram relationship',\n",
       " 'kilogram-atomic mass unit relationship',\n",
       " 'kilogram-electron volt relationship',\n",
       " 'kilogram-hartree relationship',\n",
       " 'kilogram-hertz relationship',\n",
       " 'kilogram-inverse meter relationship',\n",
       " 'kilogram-joule relationship',\n",
       " 'kilogram-kelvin relationship']"
      ]
     },
     "execution_count": 11,
     "metadata": {},
     "output_type": "execute_result"
    }
   ],
   "source": [
    "# Exercise 7\n",
    "\n",
    "scipy.constants.find(\"gram\")"
   ]
  },
  {
   "cell_type": "markdown",
   "metadata": {},
   "source": [
    "- .find : find the key(in \" \") in the previous data"
   ]
  },
  {
   "cell_type": "code",
   "execution_count": 13,
   "metadata": {},
   "outputs": [
    {
     "name": "stdout",
     "output_type": "stream",
     "text": [
      "(1.6605390666e-27, 'kg', 5e-37)\n"
     ]
    }
   ],
   "source": [
    "# Exercise 8\n",
    "\n",
    "print(scipy.constants.physical_constants[\"atomic mass unit-kilogram relationship\"])"
   ]
  },
  {
   "cell_type": "code",
   "execution_count": 20,
   "metadata": {},
   "outputs": [
    {
     "name": "stdout",
     "output_type": "stream",
     "text": [
      "4.943153483052497e+18\n"
     ]
    }
   ],
   "source": [
    "# Exercise 9\n",
    "\n",
    "import scipy.constants\n",
    "\n",
    "m = 55\n",
    "c = scipy.constants.c\n",
    "energy = m*(c**2)\n",
    "print(energy)"
   ]
  },
  {
   "cell_type": "code",
   "execution_count": 16,
   "metadata": {},
   "outputs": [
    {
     "name": "stdout",
     "output_type": "stream",
     "text": [
      "15 21 18.0 4.0\n"
     ]
    }
   ],
   "source": [
    "# Exercise 10\n",
    "\n",
    "from scipy import stats\n",
    "import numpy as np\n",
    "\n",
    "x = np.array([19 ,18 ,21 ,16 ,15 ,17 ,20 ,18]);\n",
    "print(stats.tmin(x), stats.tmax(x), stats.tmean(x), stats.tvar(x));"
   ]
  },
  {
   "cell_type": "code",
   "execution_count": 17,
   "metadata": {},
   "outputs": [
    {
     "name": "stdout",
     "output_type": "stream",
     "text": [
      "DescribeResult(nobs=8, minmax=(15, 21), mean=18.0, variance=4.0, skewness=0.0, kurtosis=-1.0)\n"
     ]
    }
   ],
   "source": [
    "# Exercise 11\n",
    "\n",
    "print(stats.describe(x));"
   ]
  },
  {
   "cell_type": "markdown",
   "metadata": {},
   "source": [
    "- Compute several descriptive statistics of the passed array."
   ]
  },
  {
   "cell_type": "code",
   "execution_count": 18,
   "metadata": {},
   "outputs": [
    {
     "name": "stdout",
     "output_type": "stream",
     "text": [
      "61.85\n",
      "[12.55838994]\n",
      "[0.01194421]\n"
     ]
    }
   ],
   "source": [
    "# Exercise 12\n",
    "\n",
    "from scipy import stats\n",
    "import numpy as np\n",
    "\n",
    "student_scores = [[80] , [78] , [55] , [60] , [62] ,\n",
    "                  [59] , [48] , [49] , [51] , [54] ,\n",
    "                  [72] , [95] , [78] , [54] , [50] ,\n",
    "                  [61] , [57] , [56] , [65] , [53]];\n",
    "\n",
    "print(stats.tmean(student_scores))\n",
    "print(stats.tstd(student_scores))\n",
    "print((62 - stats.tmean(student_scores)) / stats.tstd(student_scores))"
   ]
  },
  {
   "cell_type": "markdown",
   "metadata": {},
   "source": [
    "- find trimmed mean of the array elements\n",
    "\n",
    "- find trimmed standard deviation of the array elements\n",
    "\n",
    "- to calculate z-score from mentioned data minus trimmed mean of the array elements divided by trimmed standard deviation of the array elements"
   ]
  },
  {
   "cell_type": "code",
   "execution_count": 21,
   "metadata": {},
   "outputs": [
    {
     "name": "stdout",
     "output_type": "stream",
     "text": [
      "z-scores of [80] is [1.44524896]\n",
      "z-scores of [78] is [1.28599288]\n",
      "z-scores of [55] is [-0.54545209]\n",
      "z-scores of [60] is [-0.14731188]\n",
      "z-scores of [62] is [0.01194421]\n",
      "z-scores of [59] is [-0.22693992]\n",
      "z-scores of [48] is [-1.10284838]\n",
      "z-scores of [49] is [-1.02322034]\n",
      "z-scores of [51] is [-0.86396425]\n",
      "z-scores of [54] is [-0.62508013]\n",
      "z-scores of [72] is [0.80822462]\n",
      "z-scores of [95] is [2.63966959]\n",
      "z-scores of [78] is [1.28599288]\n",
      "z-scores of [54] is [-0.62508013]\n",
      "z-scores of [50] is [-0.9435923]\n",
      "z-scores of [61] is [-0.06768384]\n",
      "z-scores of [57] is [-0.386196]\n",
      "z-scores of [56] is [-0.46582404]\n",
      "z-scores of [65] is [0.25082833]\n",
      "z-scores of [53] is [-0.70470817]\n"
     ]
    }
   ],
   "source": [
    "# Exercise 13\n",
    "\n",
    "from scipy import stats\n",
    "import numpy as np\n",
    "\n",
    "for i in range(len(student_scores)):\n",
    "    z = (student_scores[i] - stats.tmean(student_scores)) / stats.tstd(student_scores)\n",
    "    print('z-scores of {} is {}'.format(student_scores[i],z))\n",
    "# end for"
   ]
  },
  {
   "cell_type": "code",
   "execution_count": null,
   "metadata": {},
   "outputs": [],
   "source": []
  }
 ],
 "metadata": {
  "kernelspec": {
   "display_name": "Python 3",
   "language": "python",
   "name": "python3"
  },
  "language_info": {
   "codemirror_mode": {
    "name": "ipython",
    "version": 3
   },
   "file_extension": ".py",
   "mimetype": "text/x-python",
   "name": "python",
   "nbconvert_exporter": "python",
   "pygments_lexer": "ipython3",
   "version": "3.8.3"
  }
 },
 "nbformat": 4,
 "nbformat_minor": 4
}
