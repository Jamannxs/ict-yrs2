{
 "cells": [
  {
   "cell_type": "code",
   "execution_count": 1,
   "metadata": {},
   "outputs": [],
   "source": [
    "# Task 1\n",
    "\n",
    "import numpy as np\n",
    "\n",
    "def f(x):\n",
    "    return (x**3)-(4*(x**2))-(4*x)+16\n",
    "# end func"
   ]
  },
  {
   "cell_type": "code",
   "execution_count": 2,
   "metadata": {},
   "outputs": [],
   "source": [
    "def df(x):\n",
    "    return (3*(x**2))-(8*(x))-4\n",
    "# end func"
   ]
  },
  {
   "cell_type": "code",
   "execution_count": 3,
   "metadata": {},
   "outputs": [],
   "source": [
    "def solvenewton(f,df,x0,p):\n",
    "    es = 0.5 * (10**(2-p))\n",
    "    ea = 100\n",
    "    x = prv_x = x0\n",
    "    k = 0\n",
    "    \n",
    "    while(ea > es):\n",
    "        x = x - (f(x)/df(x))\n",
    "        ea = abs((x-prv_x)/x) * 100\n",
    "        print('Iteration #{}: x = {}, ea = {}'.format(k,x,ea))\n",
    "        prv_x = x\n",
    "        k += 1\n",
    "    # end while\n",
    "# end func"
   ]
  },
  {
   "cell_type": "code",
   "execution_count": 4,
   "metadata": {},
   "outputs": [
    {
     "name": "stdout",
     "output_type": "stream",
     "text": [
      "Iteration #0: x = -2.152542372881356, ea = 30.314960629921263\n",
      "Iteration #1: x = -2.008841631069802, ea = 7.1534131705059565\n",
      "Iteration #2: x = -2.00003239130595, ea = 0.44045485473863016\n",
      "Iteration #3: x = -2.0000000004371565, ea = 0.0016195434393141948\n"
     ]
    }
   ],
   "source": [
    "x01 = -1.5\n",
    "x02 = 1.8\n",
    "x03 = 4.2\n",
    "\n",
    "solvenewton(f,df,x01,4)"
   ]
  },
  {
   "cell_type": "code",
   "execution_count": 5,
   "metadata": {},
   "outputs": [
    {
     "name": "stdout",
     "output_type": "stream",
     "text": [
      "Iteration #0: x = 1.9926267281105992, ea = 9.666975023126735\n",
      "Iteration #1: x = 1.9999865582086023, ea = 0.3679939781493008\n",
      "Iteration #2: x = 1.9999999999548304, ea = 0.0006720873114192916\n"
     ]
    }
   ],
   "source": [
    "solvenewton(f,df,x02,4)"
   ]
  },
  {
   "cell_type": "code",
   "execution_count": 6,
   "metadata": {},
   "outputs": [
    {
     "name": "stdout",
     "output_type": "stream",
     "text": [
      "Iteration #0: x = 4.021932114882507, ea = 4.427421448974292\n",
      "Iteration #1: x = 4.000313239069205, ea = 0.5404295744183352\n",
      "Iteration #2: x = 4.000000065390287, ea = 0.007829341844951767\n",
      "Iteration #3: x = 4.000000000000002, ea = 1.634757129664876e-06\n"
     ]
    }
   ],
   "source": [
    "solvenewton(f,df,x03,4)"
   ]
  },
  {
   "cell_type": "code",
   "execution_count": 7,
   "metadata": {},
   "outputs": [],
   "source": [
    "# Task 2\n",
    "\n",
    "def solvefixedpoint(g,x0,p):\n",
    "    es = 0.5 * (10**(2-p))\n",
    "    ea = 100\n",
    "    x = prv_x = x0\n",
    "    k = 1\n",
    "    \n",
    "    while(ea > es):\n",
    "        x = g(x)\n",
    "        ea = abs((x-prv_x)/x) * 100\n",
    "        print('Iteration #{}: x = {}, ea = {}'.format(k,x,ea))\n",
    "        prv_x = x\n",
    "        k += 1\n",
    "    # end while\n",
    "# end func"
   ]
  },
  {
   "cell_type": "code",
   "execution_count": 8,
   "metadata": {},
   "outputs": [
    {
     "name": "stdout",
     "output_type": "stream",
     "text": [
      "Iteration #0: x = 5.0, ea = 80.0\n",
      "Iteration #1: x = 2.6, ea = 92.3076923076923\n",
      "Iteration #2: x = 3.1538461538461537, ea = 17.560975609756092\n",
      "Iteration #3: x = 2.951219512195122, ea = 6.865861411315954\n",
      "Iteration #4: x = 3.0165289256198347, ea = 2.165051787504176\n",
      "Iteration #5: x = 2.9945205479452057, ea = 0.7349549726660164\n",
      "Iteration #6: x = 3.001829826166514, ea = 0.24349409009113476\n",
      "Iteration #7: x = 2.999390429747028, ea = 0.08132973937946869\n",
      "Iteration #8: x = 3.000203231378925, ea = 0.027091552445368962\n",
      "Iteration #9: x = 2.999932260795936, ea = 0.009032556719037035\n",
      "Iteration #10: x = 3.000022580244544, ea = 0.0030106256267175726\n"
     ]
    }
   ],
   "source": [
    "import numpy as np\n",
    "\n",
    "def f(x):\n",
    "    return (x**2)-(2*x)-3\n",
    "# end func\n",
    "\n",
    "def df(x):\n",
    "    return 2*x - x\n",
    "# end func\n",
    "\n",
    "solvenewton(f,df,1,4)"
   ]
  },
  {
   "cell_type": "code",
   "execution_count": 9,
   "metadata": {},
   "outputs": [
    {
     "name": "stdout",
     "output_type": "stream",
     "text": [
      "Iteration #1: x = 0.36787944117144233, ea = 171.8281828459045\n",
      "Iteration #2: x = 0.6922006275553464, ea = 46.85363946133844\n",
      "Iteration #3: x = 0.5004735005636368, ea = 38.30914659333314\n",
      "Iteration #4: x = 0.6062435350855974, ea = 17.446789681151248\n",
      "Iteration #5: x = 0.545395785975027, ea = 11.156622525381316\n",
      "Iteration #6: x = 0.5796123355033789, ea = 5.9033508144086735\n",
      "Iteration #7: x = 0.5601154613610891, ea = 3.480866979624528\n",
      "Iteration #8: x = 0.571143115080177, ea = 1.9308039312598229\n",
      "Iteration #9: x = 0.5648793473910495, ea = 1.1088682420515694\n",
      "Iteration #10: x = 0.5684287250290607, ea = 0.6244191191832817\n",
      "Iteration #11: x = 0.5664147331468833, ea = 0.35556841379956905\n",
      "Iteration #12: x = 0.5675566373282835, ea = 0.20119651613549186\n",
      "Iteration #13: x = 0.5669089119214953, ea = 0.11425564022143186\n",
      "Iteration #14: x = 0.5672762321755697, ea = 0.06475156779716675\n",
      "Iteration #15: x = 0.5670678983907883, ea = 0.036738772441988095\n",
      "Iteration #16: x = 0.5671860500993571, ea = 0.020831208480545794\n",
      "Iteration #17: x = 0.5671190400572149, ea = 0.011815868875676731\n",
      "Iteration #18: x = 0.5671570440012975, ea = 0.00670077970194647\n",
      "Iteration #19: x = 0.5671354902062784, ea = 0.003800466624170186\n"
     ]
    }
   ],
   "source": [
    "import math\n",
    "\n",
    "def g(x):\n",
    "    # f(x) = e**(-x) - x\n",
    "    return math.e**(-x)\n",
    "# end func\n",
    "\n",
    "solvefixedpoint(g,1,4)"
   ]
  },
  {
   "cell_type": "code",
   "execution_count": 10,
   "metadata": {},
   "outputs": [
    {
     "name": "stdout",
     "output_type": "stream",
     "text": [
      "Iteration #0: x = 0.8557623992189818, ea = 41.57256728546044\n",
      "Iteration #1: x = 0.4339280535317651, ea = 97.21296935145882\n",
      "Iteration #2: x = 0.38673897107402433, ea = 12.201791385722151\n",
      "Iteration #3: x = 0.04962121731104169, ea = 679.382272405412\n",
      "Iteration #4: x = 21.86029391622654, ea = 99.77300754737699\n",
      "Iteration #5: x = -11295618787.516527, ea = 100.00000019352898\n",
      "Iteration #6: x = -11295618788.516527, ea = 8.852989984193081e-09\n"
     ]
    }
   ],
   "source": [
    "import math\n",
    "import numpy as np\n",
    "\n",
    "def f(x):\n",
    "    return np.sin(2*np.pi*x) + np.e**(1.2*x) + x - 2.5\n",
    "# end func\n",
    "\n",
    "def g(x):\n",
    "    return 1.2*np.e**(1.2*x) + 2*np.pi*np.cos(2*np.pi*x) + 1\n",
    "# end func\n",
    "\n",
    "solvenewton(f,df,0.5,4)"
   ]
  },
  {
   "cell_type": "code",
   "execution_count": null,
   "metadata": {},
   "outputs": [],
   "source": []
  }
 ],
 "metadata": {
  "kernelspec": {
   "display_name": "Python 3",
   "language": "python",
   "name": "python3"
  },
  "language_info": {
   "codemirror_mode": {
    "name": "ipython",
    "version": 3
   },
   "file_extension": ".py",
   "mimetype": "text/x-python",
   "name": "python",
   "nbconvert_exporter": "python",
   "pygments_lexer": "ipython3",
   "version": "3.8.3"
  }
 },
 "nbformat": 4,
 "nbformat_minor": 4
}
