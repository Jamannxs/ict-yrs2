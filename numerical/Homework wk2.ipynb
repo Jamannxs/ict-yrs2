{
 "cells": [
  {
   "cell_type": "code",
   "execution_count": 15,
   "metadata": {
    "scrolled": true
   },
   "outputs": [
    {
     "name": "stdout",
     "output_type": "stream",
     "text": [
      "es = 5e-06\n",
      "The 1-th iteration: x = 3.5, et = 42.88690166235207, ea = 71.42857142857143\n",
      "The 2-th iteration: x = 2.607142857142857, et = 6.436161442364298, ea = 34.24657534246575\n",
      "The 3-th iteration: x = 2.454256360078278, et = 0.1945963362020047, ea = 6.229442838632517\n",
      "The 4-th iteration: x = 2.4494943716069653, et = 0.00018897093980556006, ea = 0.19440699788946816\n",
      "The 5-th iteration: x = 2.4494897427875517, et = 1.785610509576413e-10, ea = 0.00018897076124417165\n",
      "The 6-th iteration: x = 2.449489742783178, et = 0.0, ea = 1.785610509576413e-10\n",
      "after 6 times: the value of x is 2.449489742783178\n",
      "The true value of sqrt 6 is 2.449489742783178\n"
     ]
    }
   ],
   "source": [
    "# Task 10\n",
    "\n",
    "import math\n",
    "\n",
    "n = 6\n",
    "x = 1\n",
    "p = 7 # this is the number of significant figures that i want\n",
    "es = 0.5 * 10**(2-p)\n",
    "print('es = {}'.format(es))\n",
    "\n",
    "ea = 100\n",
    "true_val = math.sqrt(n)\n",
    "prev_x = 1\n",
    "i = 0\n",
    "\n",
    "while (ea > es):\n",
    "    x = (1/2)*(x + (n/x))\n",
    "    et = abs((true_val - x)/true_val) * 100\n",
    "    ea = abs((x - prev_x)/x) * 100\n",
    "    prev_x = x\n",
    "    i += 1\n",
    "    print('The {}-th iteration: x = {}, et = {}, ea = {}'.format(i,x,et,ea))\n",
    "# end while\n",
    "\n",
    "print('after {} times: the value of x is {}'.format(i,x))\n",
    "print('The true value of sqrt {} is {}'.format(n,math.sqrt(n)))"
   ]
  },
  {
   "cell_type": "code",
   "execution_count": 10,
   "metadata": {},
   "outputs": [
    {
     "name": "stdout",
     "output_type": "stream",
     "text": [
      "Input a binary number: 1011\n",
      "The decimal value of this number is 11\n"
     ]
    }
   ],
   "source": [
    "# Task 11\n",
    "\n",
    "def bin_to_dec():\n",
    "    dec = 0\n",
    "    bilist = list(input(\"Input a binary number: \"))\n",
    "    for i in range(len(bilist)):\n",
    "        dg = bilist.pop()\n",
    "        if dg != '1':\n",
    "            pass\n",
    "        else:\n",
    "            dec = dec + pow(2, i)\n",
    "    # end for\n",
    "    print('The decimal value of this number is {}'.format(dec))\n",
    "\n",
    "bin_to_dec()"
   ]
  },
  {
   "cell_type": "code",
   "execution_count": 9,
   "metadata": {},
   "outputs": [
    {
     "name": "stdout",
     "output_type": "stream",
     "text": [
      "Input a decimal number: 12\n",
      "The binary value of this number is 1100\n"
     ]
    }
   ],
   "source": [
    "# Task 11\n",
    "\n",
    "def dec_to_bin():\n",
    "\n",
    "    deci = int(input(\"Input a decimal number: \"))\n",
    "    dec = int(bin(deci)[2:])\n",
    "    print('The binary value of this number is {}'.format(dec))\n",
    "\n",
    "dec_to_bin()"
   ]
  },
  {
   "cell_type": "code",
   "execution_count": 20,
   "metadata": {},
   "outputs": [
    {
     "name": "stdout",
     "output_type": "stream",
     "text": [
      "Input the number to convert to square root: 9\n",
      "Input the number of significant figure accuracy: 7\n",
      "The square root of 9 is 3.000000000000001\n"
     ]
    }
   ],
   "source": [
    "# Task 12.1\n",
    "\n",
    "import math\n",
    "\n",
    "num = int(input('Input the number to convert to square root: '))\n",
    "sign_num = int(input('Input the number of significant figure accuracy: '))\n",
    "es = 0.5 * 10**(2-sign_num)\n",
    "ea = 100\n",
    "prev_x = 1\n",
    "i = 0\n",
    "\n",
    "while (ea > es):\n",
    "    ans = (1/2)*(ans + (num/ans))\n",
    "    ea = abs((ans - prev_x)/ans) * 100\n",
    "    prev_x = ans\n",
    "    i += 1\n",
    "print('The square root of {} is {}'.format(num,ans))"
   ]
  },
  {
   "cell_type": "code",
   "execution_count": 16,
   "metadata": {},
   "outputs": [
    {
     "name": "stdout",
     "output_type": "stream",
     "text": [
      "Input the number to convert to cube root: 34\n",
      "The cube root of 34 is 3.2396148796643875\n"
     ]
    }
   ],
   "source": [
    "# Task 12.2\n",
    "\n",
    "import math\n",
    "\n",
    "num1 = int(input('Input the number to convert to cube root: '))\n",
    "p = 5\n",
    "prev_x = 1\n",
    "i = 0\n",
    "x = 1\n",
    "es = 0.5 * 10**(2-p)\n",
    "ea = 100\n",
    "\n",
    "while (ea > es):\n",
    "    x = (1/4)*(3*x + (num1/(x**2)))\n",
    "    ea = abs((x - prev_x)/x) * 100\n",
    "    prev_x = x\n",
    "    i += 1\n",
    "# end while\n",
    "print('The cube root of {} is {}'.format(num1,x))"
   ]
  },
  {
   "cell_type": "code",
   "execution_count": 2,
   "metadata": {},
   "outputs": [
    {
     "name": "stdout",
     "output_type": "stream",
     "text": [
      "The IEEE 754 form of 0.096 is 0 01111011 10001001001101110100101\n"
     ]
    }
   ],
   "source": [
    "# Task 12.31\n",
    "\n",
    "def dec_bi(n):\n",
    "    a = ''\n",
    "    arr = []\n",
    "    i = 0\n",
    "    while(n>0):\n",
    "        x = n%2\n",
    "        arr.append(x)\n",
    "        n = n//2\n",
    "    # end while\n",
    "    arr.reverse()\n",
    "    for i in range(0, len(arr)):\n",
    "        a += str(arr[i])\n",
    "    # end for\n",
    "    return a\n",
    "\n",
    "def float_bi(n):\n",
    "    b = ''\n",
    "    for i in range(0,23):\n",
    "        n = n*2\n",
    "        s = str(n).split(\".\", 1)\n",
    "        b += s[0]\n",
    "        if (n >= 1):\n",
    "            n = n-1\n",
    "        if (int(s[1])==0):\n",
    "            break;\n",
    "    # end for\n",
    "    return '0.'+ b\n",
    "\n",
    "A = 0.096\n",
    "sign = 0\n",
    "i = -1\n",
    "if (A<0):\n",
    "    sign = 1\n",
    "# end if   \n",
    "\n",
    "B = 0\n",
    "while(B<=1):\n",
    "    B = A/(2**(i))\n",
    "    i = i-1\n",
    "# end while\n",
    "expo = i+1+127\n",
    "str_expo = dec_bi(123)\n",
    "zero = ''\n",
    "if (len(str_expo)!=8):\n",
    "    cnt = 8-len(str_expo)\n",
    "    for i in range(0,cnt):\n",
    "        zero += '0'\n",
    "    # end for\n",
    "# end if\n",
    "frac = B-1.00\n",
    "\n",
    "str_frac = str(float_bi(frac)).split(\".\",1)\n",
    "print(\"The IEEE 754 form of 0.096 is \"+str(sign) + \" \" + zero + str_expo + \" \" + str_frac[1])\n",
    "\n"
   ]
  },
  {
   "cell_type": "code",
   "execution_count": 5,
   "metadata": {},
   "outputs": [
    {
     "name": "stdout",
     "output_type": "stream",
     "text": [
      "Input sign number: 0\n",
      "Input exponent number: 123\n",
      "Input fraction number: 0.456\n",
      "Decimal form of is 0.091\n"
     ]
    }
   ],
   "source": [
    "# Task 12.32\n",
    "\n",
    "sign = int(input('Input sign number: '))\n",
    "expo = int(input('Input exponent number: '))\n",
    "frac = float(input('Input fraction number: '))\n",
    "a = ((-1)**(sign))*(1+frac)*(2**(expo-127))\n",
    "print('Decimal form of is {}'.format(a))"
   ]
  },
  {
   "cell_type": "code",
   "execution_count": null,
   "metadata": {},
   "outputs": [],
   "source": []
  }
 ],
 "metadata": {
  "kernelspec": {
   "display_name": "Python 3",
   "language": "python",
   "name": "python3"
  },
  "language_info": {
   "codemirror_mode": {
    "name": "ipython",
    "version": 3
   },
   "file_extension": ".py",
   "mimetype": "text/x-python",
   "name": "python",
   "nbconvert_exporter": "python",
   "pygments_lexer": "ipython3",
   "version": "3.8.3"
  }
 },
 "nbformat": 4,
 "nbformat_minor": 4
}
