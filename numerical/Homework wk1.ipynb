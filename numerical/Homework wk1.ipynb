{
 "cells": [
  {
   "cell_type": "code",
   "execution_count": 7,
   "metadata": {},
   "outputs": [
    {
     "name": "stdout",
     "output_type": "stream",
     "text": [
      "Avengers\n",
      "Harry Potter\n",
      "Twilight\n",
      "Totoro\n",
      "Insert movie name to rate :\n",
      "Totoro\n",
      "Rate of Totoro from 1 to 10\n",
      "5\n",
      "Good\n"
     ]
    }
   ],
   "source": [
    "thelist = [\"Avengers\", \"Harry Potter\", \"Twilight\",\"Totoro\"]\n",
    "for x in thelist:\n",
    "    print(x)\n",
    "print('Insert movie name to rate :')\n",
    "movie = input()\n",
    "print('Rate of {} from 1 to 10'.format(movie))\n",
    "rate = input()\n",
    "rate_num = int(rate)\n",
    "if rate_num >= 8:\n",
    "  print(\"Bravo\")\n",
    "elif rate_num <= 3:\n",
    "  print(\"Geeze\")\n",
    "else:\n",
    "  print(\"Good\")"
   ]
  },
  {
   "cell_type": "code",
   "execution_count": 8,
   "metadata": {},
   "outputs": [
    {
     "name": "stdout",
     "output_type": "stream",
     "text": [
      "The total future value of my saving is 24393.597444632862\n"
     ]
    }
   ],
   "source": [
    "fv1 = 2000*((1+0.0025)**12)\n",
    "fv2 = 2000*((1+0.0025)**11)\n",
    "fv3 = 2000*((1+0.0025)**10)\n",
    "fv4 = 2000*((1+0.0025)**9)\n",
    "fv5 = 2000*((1+0.0025)**8)\n",
    "fv6 = 2000*((1+0.0025)**7)\n",
    "fv7 = 2000*((1+0.0025)**6)\n",
    "fv8 = 2000*((1+0.0025)**5)\n",
    "fv9 = 2000*((1+0.0025)**4)\n",
    "fv10 = 2000*((1+0.0025)**3)\n",
    "fv11 = 2000*((1+0.0025)**2)\n",
    "fv12 = 2000*((1+0.0025)**1)\n",
    "\n",
    "fvTotal = fv1+fv2+fv3+fv4+fv5+fv6+fv7+fv8+fv9+fv10+fv11+fv12\n",
    "print('The total future value of my saving is {}'.format(fvTotal))"
   ]
  },
  {
   "cell_type": "code",
   "execution_count": 12,
   "metadata": {},
   "outputs": [
    {
     "name": "stdout",
     "output_type": "stream",
     "text": [
      "The total future value of my saving is 24393.597444632862\n"
     ]
    }
   ],
   "source": [
    "fv_total = 0\n",
    "for i in range(1,13):\n",
    "    fv_total = fv_total +  2000*((1+0.0025)**i)\n",
    "print('The total future value of my saving is {}'.format(fv_total))  "
   ]
  },
  {
   "cell_type": "code",
   "execution_count": 10,
   "metadata": {},
   "outputs": [
    {
     "name": "stdout",
     "output_type": "stream",
     "text": [
      "First number :\n",
      "4\n",
      "Second number :\n",
      "6\n",
      "The LCM of 4 and 6 is 12\n"
     ]
    }
   ],
   "source": [
    "print('First number :')\n",
    "first = input()\n",
    "first_num = int(first)\n",
    "print('Second number :')\n",
    "sec = input()\n",
    "sec_num = int(sec)\n",
    "\n",
    "if first_num >= sec_num:\n",
    "    lcm = first_num        \n",
    "else:\n",
    "    lcm = sec_num\n",
    "\n",
    "while True:\n",
    "    if (lcm%first_num==0) and (lcm%sec_num==0):\n",
    "        print('The LCM of {} and {} is {}'.format(first_num,sec_num,lcm))\n",
    "        break\n",
    "    lcm+= 1"
   ]
  },
  {
   "cell_type": "code",
   "execution_count": 1,
   "metadata": {},
   "outputs": [
    {
     "name": "stdout",
     "output_type": "stream",
     "text": [
      "First number :\n",
      "4\n",
      "Second number :\n",
      "6\n",
      "The LCM of 4 and 6 is 12\n"
     ]
    }
   ],
   "source": [
    "print('First number :')\n",
    "first = input()\n",
    "first_num = int(first)\n",
    "print('Second number :')\n",
    "sec = input()\n",
    "sec_num = int(sec)\n",
    "\n",
    "if first_num >= sec_num:\n",
    "    lcm = first_num        \n",
    "else:\n",
    "    lcm = sec_num\n",
    "\n",
    "while True:\n",
    "    if (lcm%first_num==0) and (lcm%sec_num==0):\n",
    "        print('The LCM of {} and {} is {}'.format(first_num,sec_num,lcm))\n",
    "        break\n",
    "    lcm += 1"
   ]
  },
  {
   "cell_type": "code",
   "execution_count": 2,
   "metadata": {},
   "outputs": [
    {
     "name": "stdout",
     "output_type": "stream",
     "text": [
      "First number :\n",
      "6\n",
      "Second number :\n",
      "9\n",
      "The GCD of 6 and 9 is 3\n"
     ]
    }
   ],
   "source": [
    "print('First number :')\n",
    "first1 = input()\n",
    "first1_num = int(first1)\n",
    "print('Second number :')\n",
    "sec2 = input()\n",
    "sec2_num = int(sec2)\n",
    "\n",
    "if first1_num <= sec2_num:\n",
    "    gcd = first1_num        \n",
    "else:\n",
    "    gcd = sec2_num\n",
    "\n",
    "for i in range(1,gcd+1):\n",
    "    if first1_num % i == 0 and sec2_num % i == 0:\n",
    "        gcd = i\n",
    "    else:\n",
    "        i += 1\n",
    "print('The GCD of {} and {} is {}'.format(first1_num, sec2_num, gcd))"
   ]
  },
  {
   "cell_type": "code",
   "execution_count": 5,
   "metadata": {},
   "outputs": [
    {
     "name": "stdout",
     "output_type": "stream",
     "text": [
      "Insert number to calculate a value of square root :\n",
      "6\n",
      "The value of square root 6 is 2.4495 \n"
     ]
    }
   ],
   "source": [
    "import math\n",
    "print('Insert number to calculate a value of square root :')\n",
    "sqrt = input()\n",
    "sqrt_num = int(sqrt)\n",
    "print('The value of square root {} is {:2.4f} '.format(sqrt,math.sqrt(sqrt_num)))"
   ]
  },
  {
   "cell_type": "markdown",
   "metadata": {},
   "source": [
    "<br>\n",
    "Pitchaporn Songprakob\n",
    "6288045"
   ]
  },
  {
   "cell_type": "code",
   "execution_count": null,
   "metadata": {},
   "outputs": [],
   "source": []
  }
 ],
 "metadata": {
  "kernelspec": {
   "display_name": "Python 3",
   "language": "python",
   "name": "python3"
  },
  "language_info": {
   "codemirror_mode": {
    "name": "ipython",
    "version": 3
   },
   "file_extension": ".py",
   "mimetype": "text/x-python",
   "name": "python",
   "nbconvert_exporter": "python",
   "pygments_lexer": "ipython3",
   "version": "3.8.3"
  }
 },
 "nbformat": 4,
 "nbformat_minor": 4
}
