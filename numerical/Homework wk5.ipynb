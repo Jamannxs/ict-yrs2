{
 "cells": [
  {
   "cell_type": "code",
   "execution_count": 1,
   "metadata": {},
   "outputs": [],
   "source": [
    "# Task 3.1\n",
    "\n",
    "import numpy as np\n",
    "\n",
    "def f(x):\n",
    "    return (x**3)-6*(x**2)+4*x+12"
   ]
  },
  {
   "cell_type": "code",
   "execution_count": 30,
   "metadata": {},
   "outputs": [],
   "source": [
    "def interval_search(f,L,U,n):\n",
    "    xr = 0\n",
    "    p = 4\n",
    "    es = 0.5*(10**(2-p))\n",
    "    ea = 100\n",
    "    prv_xr = 0\n",
    "    \n",
    "    while (ea > es):\n",
    "        x = np.linspace(L,U,n)\n",
    "        for k in range(0,n-1):\n",
    "            xl = x[k]\n",
    "            xu = x[k+1]\n",
    "            if (f(x[k]) * f(x[k+1]) > 0):\n",
    "                print('this intervals [{},{}] does not contain a root'.format(x[k],x[k+1]))\n",
    "                pass\n",
    "            else:\n",
    "                print('this intervals [{},{}] contains a root'.format(x[k],x[k+1]))\n",
    "                print('estimated root is {}'.format((xl+xu)/2))\n",
    "                xr = (xl+xu)/2\n",
    "                L = xl\n",
    "                U = xu\n",
    "                break\n",
    "            # end if\n",
    "        # end for\n",
    "        ea = abs((xr-prv_xr)/xr)*100\n",
    "        prv_xr = xr\n",
    "    # end while\n",
    "# end func"
   ]
  },
  {
   "cell_type": "code",
   "execution_count": 31,
   "metadata": {},
   "outputs": [
    {
     "name": "stdout",
     "output_type": "stream",
     "text": [
      "this intervals [4.0,4.1] does not contain a root\n",
      "this intervals [4.1,4.2] does not contain a root\n",
      "this intervals [4.2,4.3] does not contain a root\n",
      "this intervals [4.3,4.4] does not contain a root\n",
      "this intervals [4.4,4.5] does not contain a root\n",
      "this intervals [4.5,4.6] contains a root\n",
      "estimated root is 4.55\n",
      "this intervals [4.5,4.51] does not contain a root\n",
      "this intervals [4.51,4.52] does not contain a root\n",
      "this intervals [4.52,4.53] does not contain a root\n",
      "this intervals [4.53,4.54] contains a root\n",
      "estimated root is 4.535\n",
      "this intervals [4.53,4.531000000000001] does not contain a root\n",
      "this intervals [4.531000000000001,4.532] does not contain a root\n",
      "this intervals [4.532,4.533] does not contain a root\n",
      "this intervals [4.533,4.534] does not contain a root\n",
      "this intervals [4.534,4.535] contains a root\n",
      "estimated root is 4.5344999999999995\n",
      "this intervals [4.534,4.5341] contains a root\n",
      "estimated root is 4.53405\n",
      "this intervals [4.534,4.534009999999999] does not contain a root\n",
      "this intervals [4.534009999999999,4.53402] does not contain a root\n",
      "this intervals [4.53402,4.53403] does not contain a root\n",
      "this intervals [4.53403,4.53404] does not contain a root\n",
      "this intervals [4.53404,4.53405] does not contain a root\n",
      "this intervals [4.53405,4.534059999999999] does not contain a root\n",
      "this intervals [4.534059999999999,4.53407] does not contain a root\n",
      "this intervals [4.53407,4.534079999999999] contains a root\n",
      "estimated root is 4.534075\n"
     ]
    }
   ],
   "source": [
    "L = 4\n",
    "U = 5\n",
    "n = 11\n",
    "interval_search(f,L,U,n)"
   ]
  },
  {
   "cell_type": "code",
   "execution_count": 28,
   "metadata": {},
   "outputs": [],
   "source": [
    "# Task 3.2\n",
    "\n",
    "def bisection(f, L, U, p):\n",
    "    es = 0.5 * (10**(2-p))\n",
    "    ea = 100\n",
    "    xl = L\n",
    "    xu = U\n",
    "    prv_xr = (xl+xu)/2\n",
    "    i = 1\n",
    "    \n",
    "    print('es = {}'.format(es))\n",
    "    while(ea > es):\n",
    "        # find the mid point\n",
    "        xm = (xl + xu)/2\n",
    "        \n",
    "        # test the left interval to find out whether a root is inside\n",
    "        if(f(xl) * f(xm) < 0):\n",
    "            xu = xm\n",
    "        else:\n",
    "            xl = xm\n",
    "        # end if\n",
    "        xr = (xl + xu)/2\n",
    "        \n",
    "        # calculate approximation error\n",
    "        ea = abs(((xr - prv_xr)/xr) * 100)\n",
    "        print('Iteration #{}: Interval is[{},{}] and xr = {} and ea = {}'.format(i,xl,xu,xr,ea)) \n",
    "        prv_xr = xr\n",
    "        i += 1\n",
    "    # end while\n",
    "# end func"
   ]
  },
  {
   "cell_type": "code",
   "execution_count": 29,
   "metadata": {},
   "outputs": [
    {
     "name": "stdout",
     "output_type": "stream",
     "text": [
      "es = 0.005\n",
      "Iteration #1: Interval is[4,5.0] and xr = 4.5 and ea = 11.11111111111111\n",
      "Iteration #2: Interval is[4.5,5.0] and xr = 4.75 and ea = 5.263157894736842\n",
      "Iteration #3: Interval is[4.5,4.75] and xr = 4.625 and ea = 2.7027027027027026\n",
      "Iteration #4: Interval is[4.5,4.625] and xr = 4.5625 and ea = 1.36986301369863\n",
      "Iteration #5: Interval is[4.5,4.5625] and xr = 4.53125 and ea = 0.6896551724137931\n",
      "Iteration #6: Interval is[4.53125,4.5625] and xr = 4.546875 and ea = 0.3436426116838488\n",
      "Iteration #7: Interval is[4.53125,4.546875] and xr = 4.5390625 and ea = 0.17211703958691912\n",
      "Iteration #8: Interval is[4.53125,4.5390625] and xr = 4.53515625 and ea = 0.08613264427217916\n",
      "Iteration #9: Interval is[4.53125,4.53515625] and xr = 4.533203125 and ea = 0.043084877208099955\n",
      "Iteration #10: Interval is[4.533203125,4.53515625] and xr = 4.5341796875 and ea = 0.021537798836958864\n",
      "Iteration #11: Interval is[4.533203125,4.5341796875] and xr = 4.53369140625 and ea = 0.010770059235325794\n",
      "Iteration #12: Interval is[4.53369140625,4.5341796875] and xr = 4.533935546875 and ea = 0.0053847396478380275\n",
      "Iteration #13: Interval is[4.533935546875,4.5341796875] and xr = 4.5340576171875 and ea = 0.0026922973373179333\n"
     ]
    }
   ],
   "source": [
    "bisection(f,4,6,4)"
   ]
  },
  {
   "cell_type": "code",
   "execution_count": 40,
   "metadata": {},
   "outputs": [],
   "source": [
    "# Task 3.3\n",
    "\n",
    "def false_position(f,L,U,p):\n",
    "    xr = 1\n",
    "    p = 4\n",
    "    es = 0.5*(10**(2-p))\n",
    "    ea = 100\n",
    "    prv_xr = 0\n",
    "    xu = U\n",
    "    xl = L\n",
    "    \n",
    "    while(ea > es):\n",
    "        xr = xu - f(xu)*((xu-xl)/(f(xu)-f(xl)))\n",
    "        if(f(xl)*f(xu) < 0):\n",
    "            xl = xr\n",
    "        else:\n",
    "            xu = xr\n",
    "        ea = abs((xr-prv_xr) / xr) * 100\n",
    "        prv_xr = xr\n",
    "        # end if\n",
    "    # end while\n",
    "    print('Interval is[{},{}] contains a root'.format(xl,xu))\n",
    "    print('estimated root is:',xr)\n",
    "# end func"
   ]
  },
  {
   "cell_type": "code",
   "execution_count": 41,
   "metadata": {},
   "outputs": [
    {
     "name": "stdout",
     "output_type": "stream",
     "text": [
      "Interval is[4.53381032508929,6] contains a root\n",
      "estimated root is: 4.53381032508929\n"
     ]
    }
   ],
   "source": [
    "false_position(f,4,6,4)"
   ]
  },
  {
   "cell_type": "code",
   "execution_count": null,
   "metadata": {},
   "outputs": [],
   "source": []
  }
 ],
 "metadata": {
  "kernelspec": {
   "display_name": "Python 3",
   "language": "python",
   "name": "python3"
  },
  "language_info": {
   "codemirror_mode": {
    "name": "ipython",
    "version": 3
   },
   "file_extension": ".py",
   "mimetype": "text/x-python",
   "name": "python",
   "nbconvert_exporter": "python",
   "pygments_lexer": "ipython3",
   "version": "3.8.3"
  }
 },
 "nbformat": 4,
 "nbformat_minor": 4
}
