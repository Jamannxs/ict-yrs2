{
 "cells": [
  {
   "cell_type": "code",
   "execution_count": 1,
   "metadata": {},
   "outputs": [],
   "source": [
    "import numpy as np\n",
    "\n",
    "A = np.matrix([\n",
    "    [2,-1,0],\n",
    "    [1,2,1],\n",
    "    [4,1,3]\n",
    "])"
   ]
  },
  {
   "cell_type": "code",
   "execution_count": 2,
   "metadata": {},
   "outputs": [
    {
     "name": "stdout",
     "output_type": "stream",
     "text": [
      "[[ 2 -1  0]\n",
      " [ 1  2  1]\n",
      " [ 4  1  3]] is a square matrix.\n"
     ]
    }
   ],
   "source": [
    "# Task 5.1\n",
    "\n",
    "def is_square(A):\n",
    "    (nrow,ncol) = A.shape\n",
    "    if(nrow == ncol):\n",
    "        return True\n",
    "    else:\n",
    "        return False\n",
    "    # end if\n",
    "# end func\n",
    "\n",
    "if(is_square(A)):\n",
    "    print('{} is a square matrix.'.format(A))\n",
    "else:\n",
    "    print('{} is not a square matrix.'.format(A))"
   ]
  },
  {
   "cell_type": "code",
   "execution_count": 3,
   "metadata": {},
   "outputs": [
    {
     "name": "stdout",
     "output_type": "stream",
     "text": [
      "[[ 2 -1  0]\n",
      " [ 1  2  1]\n",
      " [ 4  1  3]] is not a symmetric matrix.\n"
     ]
    }
   ],
   "source": [
    "# Task 5.2\n",
    "\n",
    "def is_symmetric(A):\n",
    "    (nrow,ncol) = A.shape\n",
    "    for i in range(0,nrow):\n",
    "        for j in range(0,ncol):\n",
    "            if(A[i,j] == A[j,i]):\n",
    "                pass\n",
    "            else:\n",
    "                return False\n",
    "            # end if\n",
    "        # end for\n",
    "    # end for\n",
    "    return True\n",
    "# end func\n",
    "\n",
    "if(is_symmetric(A)):\n",
    "    print('{} is a symmetric matrix.'.format(A))\n",
    "else:\n",
    "    print('{} is not a symmetric matrix.'.format(A))"
   ]
  },
  {
   "cell_type": "code",
   "execution_count": 4,
   "metadata": {},
   "outputs": [
    {
     "name": "stdout",
     "output_type": "stream",
     "text": [
      "[[ 2 -1  0]\n",
      " [ 1  2  1]\n",
      " [ 4  1  3]] is not a diagonal matrix.\n"
     ]
    }
   ],
   "source": [
    "# Task 5.3\n",
    "\n",
    "def is_diagonal(A):\n",
    "    (nrow,ncol) = A.shape\n",
    "    for i in range(0,nrow):\n",
    "        for j in range(0,ncol):\n",
    "            if((i != j) and (A[i,j] != 0)):\n",
    "                return False\n",
    "            else:\n",
    "                pass\n",
    "            # end if\n",
    "        # end for\n",
    "    # end for\n",
    "    return True\n",
    "# end func\n",
    "\n",
    "if(is_diagonal(A)):\n",
    "    print('{} is a diagonal matrix.'.format(A))\n",
    "else:\n",
    "    print('{} is not a diagonal matrix.'.format(A))"
   ]
  },
  {
   "cell_type": "code",
   "execution_count": 5,
   "metadata": {},
   "outputs": [
    {
     "name": "stdout",
     "output_type": "stream",
     "text": [
      "[[ 2 -1  0]\n",
      " [ 1  2  1]\n",
      " [ 4  1  3]] is not a identity matrix.\n"
     ]
    }
   ],
   "source": [
    "# Task 5.4\n",
    "\n",
    "def is_identity(A):\n",
    "    (nrow,ncol) = A.shape\n",
    "    for i in range(0,nrow):\n",
    "        for j in range(0,ncol):\n",
    "            if((i != j) and (A[i,j] != 0)):\n",
    "                return False\n",
    "            elif((i == j) and (A[i,j] != 1)):\n",
    "                return False\n",
    "            else:\n",
    "                pass\n",
    "            # end if\n",
    "        # end for\n",
    "    # end for\n",
    "    return True\n",
    "# end func\n",
    "\n",
    "if(is_identity(A)):\n",
    "    print('{} is a identity matrix.'.format(A))\n",
    "else:\n",
    "    print('{} is not a identity matrix.'.format(A))"
   ]
  },
  {
   "cell_type": "code",
   "execution_count": 6,
   "metadata": {},
   "outputs": [
    {
     "name": "stdout",
     "output_type": "stream",
     "text": [
      "[[ 2 -1  0]\n",
      " [ 1  2  1]\n",
      " [ 4  1  3]] is not a zero matrix.\n"
     ]
    }
   ],
   "source": [
    "# Task 5.5\n",
    "\n",
    "def is_zero(A):\n",
    "    (nrow,ncol) = A.shape\n",
    "    for i in range(0,nrow):\n",
    "        for j in range(0,ncol):\n",
    "            if(A[i,j] != 0):\n",
    "                return False\n",
    "            else:\n",
    "                pass\n",
    "            # end if\n",
    "        # end for\n",
    "    # end for\n",
    "    return True\n",
    "# end func\n",
    "\n",
    "if(is_zero(A)):\n",
    "    print('{} is a zero matrix.'.format(A))\n",
    "else:\n",
    "    print('{} is not a zero matrix.'.format(A))"
   ]
  },
  {
   "cell_type": "code",
   "execution_count": 7,
   "metadata": {},
   "outputs": [
    {
     "name": "stdout",
     "output_type": "stream",
     "text": [
      "the transpose of A is\n"
     ]
    },
    {
     "data": {
      "text/plain": [
       "array([[ 2,  1,  4],\n",
       "       [-1,  2,  1],\n",
       "       [ 0,  1,  3]])"
      ]
     },
     "execution_count": 7,
     "metadata": {},
     "output_type": "execute_result"
    }
   ],
   "source": [
    "# Task 5.6\n",
    "\n",
    "def transpose(A):\n",
    "    (nrow,ncol) = A.shape\n",
    "    trans = np.empty((nrow,ncol),dtype=int)\n",
    "    \n",
    "    for i in range(0,nrow):\n",
    "        for j in range(0,ncol):\n",
    "            trans[j,i] = A[i,j]\n",
    "            # end if\n",
    "        # end for\n",
    "    # end for\n",
    "    return trans\n",
    "# end func\n",
    "\n",
    "print('the transpose of A is')\n",
    "transpose(A)"
   ]
  },
  {
   "cell_type": "code",
   "execution_count": 8,
   "metadata": {},
   "outputs": [],
   "source": [
    "import numpy as np\n",
    "\n",
    "A = np.matrix([\n",
    "    [1,2,3],\n",
    "    [4,5,6]\n",
    "])\n",
    "\n",
    "B = np.matrix([\n",
    "    [1,2],\n",
    "    [3,4],\n",
    "    [5,6]\n",
    "])"
   ]
  },
  {
   "cell_type": "code",
   "execution_count": 9,
   "metadata": {},
   "outputs": [
    {
     "name": "stdout",
     "output_type": "stream",
     "text": [
      "The multiplication (for) between A and B is\n"
     ]
    },
    {
     "data": {
      "text/plain": [
       "array([[22, 28],\n",
       "       [49, 64]])"
      ]
     },
     "execution_count": 9,
     "metadata": {},
     "output_type": "execute_result"
    }
   ],
   "source": [
    "# Task 6.1\n",
    "\n",
    "def dot_product(A,B):\n",
    "    (arow,acol) = A.shape\n",
    "    (brow,bcol) = B.shape\n",
    "    dots = np.empty((arow,bcol),dtype=int)\n",
    "    if(acol == brow):\n",
    "        for i in range(0,arow):\n",
    "            for j in range(0,bcol):\n",
    "                sum = 0\n",
    "                for k in range(0,acol):\n",
    "                    element = A[i,k] * B[k,j]\n",
    "                    sum = sum + element\n",
    "                # end for\n",
    "                dots[i,j] = sum\n",
    "            # end for\n",
    "        # end for\n",
    "        return dots\n",
    "    else:\n",
    "        return 'Multiplication error!'\n",
    "    # end if\n",
    "# end func\n",
    "\n",
    "print('The multiplication (for) between A and B is')\n",
    "dot_product(A,B)"
   ]
  },
  {
   "cell_type": "code",
   "execution_count": 10,
   "metadata": {},
   "outputs": [
    {
     "name": "stdout",
     "output_type": "stream",
     "text": [
      "The multiplication (while) between A and B is\n"
     ]
    },
    {
     "data": {
      "text/plain": [
       "array([[22, 28],\n",
       "       [49, 64]])"
      ]
     },
     "execution_count": 10,
     "metadata": {},
     "output_type": "execute_result"
    }
   ],
   "source": [
    "# Task 6.2\n",
    "\n",
    "def dot_product(A,B):\n",
    "    (arow,acol) = A.shape\n",
    "    (brow,bcol) = B.shape\n",
    "    dots = np.empty((arow,bcol),dtype=int)\n",
    "    if(acol == brow):\n",
    "        i = 0\n",
    "        while i < arow:\n",
    "            j = 0\n",
    "            while j < bcol:\n",
    "                sum = 0\n",
    "                k = 0\n",
    "                while k < acol:\n",
    "                    element = A[i,k] * B[k,j]\n",
    "                    sum = sum + element \n",
    "                    k += 1\n",
    "                # end while\n",
    "                dots[i,j] = sum\n",
    "                j += 1\n",
    "            # end while\n",
    "            i += 1\n",
    "        #end while\n",
    "        return dots\n",
    "    else:\n",
    "        return 'Multiplication error!'\n",
    "    # end if\n",
    "# end func\n",
    "\n",
    "print('The multiplication (while) between A and B is')\n",
    "dot_product(A,B)"
   ]
  },
  {
   "cell_type": "code",
   "execution_count": 11,
   "metadata": {},
   "outputs": [],
   "source": [
    "import numpy as np\n",
    "\n",
    "C = ([\n",
    "    [1,3,2],\n",
    "    [-3,-1,-3],\n",
    "    [2,3,1]\n",
    "])"
   ]
  },
  {
   "cell_type": "code",
   "execution_count": 12,
   "metadata": {},
   "outputs": [
    {
     "name": "stdout",
     "output_type": "stream",
     "text": [
      "the determinant of C is -15\n"
     ]
    }
   ],
   "source": [
    "# Task 7\n",
    "\n",
    "def minor_request(A,x,y):\n",
    "    mi_rqst = []\n",
    "    for i in range(len(A)):\n",
    "        check = []\n",
    "        for j in range(len(A)):\n",
    "            \n",
    "            if i != y and j != x:\n",
    "                check.append(A[j][i]) \n",
    "                \n",
    "            # end if\n",
    "        # end for\n",
    "        if check:\n",
    "            mi_rqst.append(check)\n",
    "    # end for\n",
    "    return mi_rqst\n",
    "# end func\n",
    "\n",
    "def deter33(A):\n",
    "    d = 0\n",
    "    if(len(A) == 1):\n",
    "        d = A[0,0]\n",
    "    else:\n",
    "        for c in range(0,len(A)):\n",
    "            m = minor_request(A,0,c)\n",
    "            temp2 = (m[0][0] * m[1][1]) - (m[0][1] * m[1][0])\n",
    "            d = d + (-1)**(c) * A[0][c] * temp2\n",
    "        # end for\n",
    "    return d  \n",
    "# end func\n",
    "\n",
    "print('the determinant of C is {}'.format(deter33(C)))"
   ]
  },
  {
   "cell_type": "code",
   "execution_count": 13,
   "metadata": {},
   "outputs": [],
   "source": [
    "D = ([\n",
    "    [1,1,-1,-2],\n",
    "    [0,2,1,3],\n",
    "    [0,1,1,3],\n",
    "    [0,2,1,4]\n",
    "])"
   ]
  },
  {
   "cell_type": "code",
   "execution_count": 14,
   "metadata": {},
   "outputs": [
    {
     "name": "stdout",
     "output_type": "stream",
     "text": [
      "the minor of D is\n"
     ]
    },
    {
     "data": {
      "text/plain": [
       "array([[ 1,  0,  0,  0],\n",
       "       [ 1,  1, -2, -1],\n",
       "       [ 3,  1,  2,  0],\n",
       "       [ 1,  0,  3,  1]])"
      ]
     },
     "execution_count": 14,
     "metadata": {},
     "output_type": "execute_result"
    }
   ],
   "source": [
    "# Task 8.1\n",
    "\n",
    "def deter(A):\n",
    "    d = 0\n",
    "    if(len(A) == 1):\n",
    "        d = A[0][0]\n",
    "    else:\n",
    "        for c in range(0,len(A)):\n",
    "            m = minor_request(A,0,c)\n",
    "            d = d + (-1)**(c) * A[0][c] * deter(m)\n",
    "        # end for\n",
    "    return d  \n",
    "# end func\n",
    "\n",
    "def minor(A):\n",
    "    mi = []\n",
    "    for i in range(len(A)):\n",
    "        for j in range(len(A)):\n",
    "            x = deter(minor_request(A,i,j))\n",
    "            mi.append(x)\n",
    "        # end for\n",
    "    # end for\n",
    "    return np.array(mi).reshape(len(A),len(A))\n",
    "# end func\n",
    "\n",
    "print('the minor of D is')\n",
    "minor(D)"
   ]
  },
  {
   "cell_type": "code",
   "execution_count": 15,
   "metadata": {},
   "outputs": [
    {
     "name": "stdout",
     "output_type": "stream",
     "text": [
      "the cofactor of D is\n"
     ]
    },
    {
     "data": {
      "text/plain": [
       "array([[ 1,  0,  0,  0],\n",
       "       [-1,  1,  2, -1],\n",
       "       [ 3, -1,  2,  0],\n",
       "       [-1,  0, -3,  1]])"
      ]
     },
     "execution_count": 15,
     "metadata": {},
     "output_type": "execute_result"
    }
   ],
   "source": [
    "# Task 8.2\n",
    "\n",
    "def cofactor(A):\n",
    "    co = minor(A)\n",
    "    for i in range(len(A)):\n",
    "        for j in range(len(A)):\n",
    "            co[i][j] = (-1)**(i+j) * co[i][j]\n",
    "        # end for\n",
    "    # end for\n",
    "    return co\n",
    "# end func\n",
    "\n",
    "print('the cofactor of D is')\n",
    "cofactor(D)"
   ]
  },
  {
   "cell_type": "code",
   "execution_count": 16,
   "metadata": {},
   "outputs": [
    {
     "name": "stdout",
     "output_type": "stream",
     "text": [
      "the adjoint of D is\n"
     ]
    },
    {
     "data": {
      "text/plain": [
       "array([[ 1, -1,  3, -1],\n",
       "       [ 0,  1, -1,  0],\n",
       "       [ 0,  2,  2, -3],\n",
       "       [ 0, -1,  0,  1]])"
      ]
     },
     "execution_count": 16,
     "metadata": {},
     "output_type": "execute_result"
    }
   ],
   "source": [
    "# Task 8.3\n",
    "\n",
    "def adjoint(A):\n",
    "    return transpose(cofactor(A))\n",
    "# end func\n",
    "\n",
    "print('the adjoint of D is')\n",
    "adjoint(D)"
   ]
  },
  {
   "cell_type": "code",
   "execution_count": 17,
   "metadata": {},
   "outputs": [
    {
     "name": "stdout",
     "output_type": "stream",
     "text": [
      "the inverse of D is\n"
     ]
    },
    {
     "data": {
      "text/plain": [
       "array([[ 1., -1.,  3., -1.],\n",
       "       [ 0.,  1., -1.,  0.],\n",
       "       [ 0.,  2.,  2., -3.],\n",
       "       [ 0., -1.,  0.,  1.]])"
      ]
     },
     "execution_count": 17,
     "metadata": {},
     "output_type": "execute_result"
    }
   ],
   "source": [
    "# Task 8.4\n",
    "def inverse(A):\n",
    "    inver = []\n",
    "    ad = adjoint(A)\n",
    "    det = deter(A)\n",
    "    for i in range(len(A)):\n",
    "        check = []\n",
    "        for j in range(len(A)):\n",
    "            check.append(ad[i][j]/det)\n",
    "        # end for\n",
    "        inver.append(check)\n",
    "    # end for\n",
    "    return np.array(inver)\n",
    "\n",
    "print('the inverse of D is')\n",
    "inverse(D)"
   ]
  },
  {
   "cell_type": "code",
   "execution_count": null,
   "metadata": {},
   "outputs": [],
   "source": []
  }
 ],
 "metadata": {
  "kernelspec": {
   "display_name": "Python 3",
   "language": "python",
   "name": "python3"
  },
  "language_info": {
   "codemirror_mode": {
    "name": "ipython",
    "version": 3
   },
   "file_extension": ".py",
   "mimetype": "text/x-python",
   "name": "python",
   "nbconvert_exporter": "python",
   "pygments_lexer": "ipython3",
   "version": "3.8.3"
  }
 },
 "nbformat": 4,
 "nbformat_minor": 4
}
