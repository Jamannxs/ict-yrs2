{
 "cells": [
  {
   "cell_type": "code",
   "execution_count": 10,
   "metadata": {},
   "outputs": [
    {
     "name": "stdout",
     "output_type": "stream",
     "text": [
      "es = 0.0005\n",
      "output = 1.0, ea = 100.0\n",
      "output = 1.2, ea = 16.666666666666664\n",
      "output = 1.22, ea = 1.6393442622950833\n",
      "output = 1.2213333333333334, ea = 0.10917030567686205\n",
      "output = 1.2214, ea = 0.005458217346214125\n",
      "output = 1.2214026666666666, ea = 0.0002183282171696027\n",
      "final output = 0.0002183282171696027\n"
     ]
    }
   ],
   "source": [
    "# Task 1\n",
    "\n",
    "def factorial(n):\n",
    "    ans = 1\n",
    "    for i in range(1,n+1):\n",
    "        ans = ans * i\n",
    "    return(ans)\n",
    "\n",
    "output = 0\n",
    "prv_output = 0\n",
    "x = 0.2\n",
    "p = 5\n",
    "es = 0.5 * (10**(2-p))\n",
    "i = 0\n",
    "ea = 100\n",
    "\n",
    "print('es = {}'.format(es))\n",
    "while (ea > es):\n",
    "    output = output + (x**i)/factorial(i)\n",
    "    ea = (output - prv_output)/output * 100\n",
    "    prv_output = output\n",
    "    i += 1\n",
    "    print('output = {}, ea = {}'.format(output,ea))\n",
    "# end while\n",
    "\n",
    "print('final output = {}'.format(ea))"
   ]
  },
  {
   "cell_type": "code",
   "execution_count": 5,
   "metadata": {},
   "outputs": [
    {
     "name": "stdout",
     "output_type": "stream",
     "text": [
      "ln(0.2) = -1.6094379121762008\n"
     ]
    }
   ],
   "source": [
    "# Task 2.1\n",
    "\n",
    "import math\n",
    "\n",
    "p = 10\n",
    "x1 = 0.2-1 # less than 1\n",
    "ln = 0\n",
    "es = 0.5 * 10**(2-p)\n",
    "prv_x1 = 0\n",
    "ea = 100\n",
    "cnt = 0\n",
    "n = 1\n",
    "        \n",
    "while ea > es:\n",
    "        ln = ln + (((-1)**(n+1))*((x1**n)/n))\n",
    "        ea = (abs(ln - prv_x1)/abs(ln))*100\n",
    "        prv_x1 = ln\n",
    "        n += 1\n",
    "        \n",
    "print('ln(0.2) = {}'.format(ln+cnt))"
   ]
  },
  {
   "cell_type": "code",
   "execution_count": 4,
   "metadata": {},
   "outputs": [
    {
     "name": "stdout",
     "output_type": "stream",
     "text": [
      "ln(4.7) = 1.5475625087052811\n"
     ]
    }
   ],
   "source": [
    "# Task 2.2\n",
    "\n",
    "import math\n",
    "\n",
    "p = 10\n",
    "x2 = 4.7 # more than 1\n",
    "ln = 0\n",
    "es = 0.5 * 10**(2-p)\n",
    "prv_x2 = 0\n",
    "ea = 100\n",
    "cnt = 0\n",
    "n = 1\n",
    "\n",
    "while x2 > 1:\n",
    "    x2 = x2/math.e\n",
    "    cnt += 1\n",
    "    if x2 > 1 and x2 < 2 or x2 < 1:\n",
    "        x2 = x2 - 1\n",
    "        break\n",
    "        \n",
    "while ea > es:\n",
    "        ln = ln + (((-1)**(n+1))*((x2**n)/n))\n",
    "        ea = (abs(ln - prv_x2)/abs(ln))*100\n",
    "        prv_x2 = ln\n",
    "        n += 1\n",
    "        \n",
    "print('ln(4.7) = {}'.format(ln+cnt))"
   ]
  },
  {
   "cell_type": "code",
   "execution_count": 15,
   "metadata": {},
   "outputs": [
    {
     "name": "stdout",
     "output_type": "stream",
     "text": [
      "The value of log2(10) = 3.3219280948714442\n"
     ]
    }
   ],
   "source": [
    "# Task 3.1\n",
    "\n",
    "import math\n",
    "\n",
    "def ln(x):\n",
    "    p = 10\n",
    "    ln = 0\n",
    "    es = 0.5 * 10**(2-p)\n",
    "    prv_x = 0\n",
    "    ea = 100\n",
    "    cnt = 0\n",
    "    n = 1\n",
    "    \n",
    "    if x > 1:\n",
    "        while x > 1:\n",
    "            x = x/math.e\n",
    "            cnt += 1\n",
    "            if x > 1 and x < 2 or x < 1:\n",
    "                x = x - 1\n",
    "                break\n",
    "    else:\n",
    "        x = x - 1\n",
    "    \n",
    "    while ea > es:\n",
    "        ln = ln + (((-1)**(n+1))*((x**n)/n))\n",
    "        ea = (abs(ln - prv_x)/abs(ln))*100\n",
    "        prv_x = ln\n",
    "        n += 1\n",
    "        \n",
    "    return ln + cnt\n",
    "\n",
    "print('The value of log2(10) = {}'.format(ln(10)/ln(2)))"
   ]
  },
  {
   "cell_type": "code",
   "execution_count": 11,
   "metadata": {},
   "outputs": [
    {
     "name": "stdout",
     "output_type": "stream",
     "text": [
      "The value of sin(60) = 0.8660254037844324\n"
     ]
    }
   ],
   "source": [
    "# Task 3.2\n",
    "\n",
    "import math\n",
    "\n",
    "def sin(x):\n",
    "    p = 10\n",
    "    sin = 0\n",
    "    es = 0.5 * 10**(2-p)\n",
    "    prv_s = 0\n",
    "    ea = 100\n",
    "    n = 0\n",
    "    \n",
    "    while ea > es:\n",
    "        sin = sin + (((-1)**(n))*((x**((2*n)+1))/factorial((2*n)+1)))\n",
    "        ea = (abs(sin - prv_s)/abs(sin))*100\n",
    "        prv_s = sin\n",
    "        n += 1\n",
    "        \n",
    "    return sin\n",
    "\n",
    "xxx = math.pi/3\n",
    "print('The value of sin(60) = {}'.format(sin(xxx)))"
   ]
  },
  {
   "cell_type": "code",
   "execution_count": 14,
   "metadata": {},
   "outputs": [
    {
     "name": "stdout",
     "output_type": "stream",
     "text": [
      "The value of arctan(0.4) = 0.38050637711294577\n"
     ]
    }
   ],
   "source": [
    "# Task 3.3\n",
    "\n",
    "import math\n",
    "\n",
    "def arctan(x):\n",
    "    p = 10\n",
    "    atan = 0\n",
    "    es = 0.5 * 10**(2-p)\n",
    "    prv_at = 0\n",
    "    ea = 100\n",
    "    n = 0\n",
    "    \n",
    "    while ea > es:\n",
    "        atan = atan + (((-1)**(n))*((x**((2*n)+1))/((2*n)+1)))\n",
    "        ea = (abs(atan - prv_at)/abs(atan))*100\n",
    "        prv_at = atan\n",
    "        n += 1\n",
    "        \n",
    "    return atan\n",
    "\n",
    "yyy = 0.4\n",
    "print('The value of arctan(0.4) = {}'.format(arctan(yyy)))"
   ]
  },
  {
   "cell_type": "code",
   "execution_count": 16,
   "metadata": {},
   "outputs": [
    {
     "name": "stdout",
     "output_type": "stream",
     "text": [
      "The value of ln(0.6) = -0.5108256237586685\n"
     ]
    }
   ],
   "source": [
    "# Task 3.3\n",
    "\n",
    "zzz = 0.6\n",
    "print('The value of ln(0.6) = {}'.format(ln(zzz)))"
   ]
  },
  {
   "cell_type": "code",
   "execution_count": 22,
   "metadata": {},
   "outputs": [
    {
     "data": {
      "image/png": "[encoded data removed]",
      "text/plain": [
       "<Figure size 432x288 with 1 Axes>"
      ]
     },
     "metadata": {
      "needs_background": "light"
     },
     "output_type": "display_data"
    }
   ],
   "source": [
    "# Task 4.1\n",
    "\n",
    "import matplotlib.pyplot as plt\n",
    "import numpy as np\n",
    "\n",
    "x = np.linspace(0,10,200)\n",
    "y = (x**2)-(2*x)-3\n",
    "\n",
    "plt.plot(x,y)\n",
    "plt.show()"
   ]
  },
  {
   "cell_type": "code",
   "execution_count": 23,
   "metadata": {},
   "outputs": [
    {
     "data": {
      "image/png": "[encoded data removed]",
      "text/plain": [
       "<Figure size 432x288 with 1 Axes>"
      ]
     },
     "metadata": {
      "needs_background": "light"
     },
     "output_type": "display_data"
    }
   ],
   "source": [
    "# Task 4.2\n",
    "\n",
    "import matplotlib.pyplot as plt\n",
    "import numpy as np\n",
    "\n",
    "x = np.linspace(0,10,200)\n",
    "y = np.sin(np.radians(10*x))+np.cos(np.radians(3*x))\n",
    "\n",
    "plt.plot(x,y)\n",
    "plt.show()"
   ]
  },
  {
   "cell_type": "code",
   "execution_count": 24,
   "metadata": {},
   "outputs": [
    {
     "data": {
      "image/png": "[encoded data removed]",
      "text/plain": [
       "<Figure size 432x288 with 1 Axes>"
      ]
     },
     "metadata": {
      "needs_background": "light"
     },
     "output_type": "display_data"
    }
   ],
   "source": [
    "# Task 4.3\n",
    "\n",
    "import matplotlib.pyplot as plt\n",
    "import numpy as np\n",
    "\n",
    "x = np.linspace(0,10,200)\n",
    "y = np.sin(2*math.pi*x)+(math.e**(2*x))+x-2.5\n",
    "\n",
    "plt.plot(x,y)\n",
    "plt.show()"
   ]
  },
  {
   "cell_type": "code",
   "execution_count": null,
   "metadata": {},
   "outputs": [],
   "source": []
  }
 ],
 "metadata": {
  "kernelspec": {
   "display_name": "Python 3",
   "language": "python",
   "name": "python3"
  },
  "language_info": {
   "codemirror_mode": {
    "name": "ipython",
    "version": 3
   },
   "file_extension": ".py",
   "mimetype": "text/x-python",
   "name": "python",
   "nbconvert_exporter": "python",
   "pygments_lexer": "ipython3",
   "version": "3.8.3"
  }
 },
 "nbformat": 4,
 "nbformat_minor": 4
}
