{
 "cells": [
  {
   "cell_type": "code",
   "execution_count": 1,
   "metadata": {},
   "outputs": [],
   "source": [
    "import numpy as np\n",
    "import math"
   ]
  },
  {
   "cell_type": "markdown",
   "metadata": {},
   "source": [
    "<h2>TASK 1</h2>"
   ]
  },
  {
   "cell_type": "code",
   "execution_count": 2,
   "metadata": {},
   "outputs": [],
   "source": [
    "def f(x):\n",
    "    return x*(1-x)*(math.e**x)\n",
    "# end func"
   ]
  },
  {
   "cell_type": "code",
   "execution_count": 3,
   "metadata": {},
   "outputs": [],
   "source": [
    "def interval_search_max(f,a,b,p):\n",
    "    es = 0.5*(10**(2-p))\n",
    "    ea = 100\n",
    "    prv_xmax = b\n",
    "    i = 1\n",
    "    epsilon = (b-a)/10\n",
    "    \n",
    "    while(ea>es):\n",
    "        xmid = (a+b)/2\n",
    "        alpha = xmid - (epsilon/2)\n",
    "        beta = xmid + (epsilon/2)\n",
    "        if(f(alpha)<f(beta)):\n",
    "            a = alpha\n",
    "            xmax = (a+b)/2\n",
    "        else:\n",
    "            b = beta\n",
    "            xmax = (a+b)/2\n",
    "        # end if    \n",
    "        ea = abs((xmax - prv_xmax)/xmax)*100\n",
    "        prv_xmax = xmax\n",
    "        i += 1\n",
    "    # end while\n",
    "    print('interval = [{},{}], xmax = {}, ea = {}'.format(a,b,xmax,ea))\n",
    "# end func"
   ]
  },
  {
   "cell_type": "code",
   "execution_count": 4,
   "metadata": {},
   "outputs": [
    {
     "name": "stdout",
     "output_type": "stream",
     "text": [
      "interval = [0.5131713867187501,0.713226318359375], xmax = 0.6131988525390626, ea = 0.004479104975279407\n"
     ]
    }
   ],
   "source": [
    "a = 0\n",
    "b = 2\n",
    "p = 4\n",
    "interval_search_max(f,a,b,p)"
   ]
  },
  {
   "cell_type": "markdown",
   "metadata": {},
   "source": [
    "<h2>TASK 2</h2>"
   ]
  },
  {
   "cell_type": "code",
   "execution_count": 5,
   "metadata": {},
   "outputs": [],
   "source": [
    "def interval_search_min(f,a,b,p):\n",
    "    es = 0.5*(10**(2-p))\n",
    "    ea = 100\n",
    "    prv_xmin = b\n",
    "    i = 1\n",
    "    epsilon = (b-a)/10\n",
    "    \n",
    "    while(ea>es):\n",
    "        xmid = (a+b)/2\n",
    "        alpha = xmid - (epsilon/2)\n",
    "        beta = xmid + (epsilon/2)\n",
    "        if(f(alpha)>f(beta)):\n",
    "            a = alpha\n",
    "            xmin = (a+b)/2\n",
    "        else:\n",
    "            b = beta\n",
    "            xmin = (a+b)/2\n",
    "            \n",
    "        # end if    \n",
    "        ea = abs((xmin - prv_xmin)/xmin)*100\n",
    "        prv_xmin = xmin\n",
    "        i += 1\n",
    "    # end while\n",
    "    print('interval = [{},{}], xmin = {}, ea = {}'.format(a,b,xmin,ea))\n",
    "# end func"
   ]
  },
  {
   "cell_type": "code",
   "execution_count": 6,
   "metadata": {},
   "outputs": [],
   "source": [
    "def f(x):\n",
    "    return (x**5)-(3*(x**4))+5\n",
    "# end func"
   ]
  },
  {
   "cell_type": "code",
   "execution_count": 7,
   "metadata": {},
   "outputs": [
    {
     "name": "stdout",
     "output_type": "stream",
     "text": [
      "interval = [2.183203125,2.5834228515625], xmin = 2.38331298828125, ea = 0.004609687514412727\n"
     ]
    }
   ],
   "source": [
    "a = 0\n",
    "b = 4\n",
    "p = 4\n",
    "interval_search_min(f,a,b,p)"
   ]
  },
  {
   "cell_type": "markdown",
   "metadata": {},
   "source": [
    "<h2>TASK 3</h2>"
   ]
  },
  {
   "cell_type": "code",
   "execution_count": 8,
   "metadata": {},
   "outputs": [],
   "source": [
    "def gloden_min(f,xl,xu,p):\n",
    "    es = 0.5*(10**(2-p))\n",
    "    ea = 100\n",
    "    prv_min = xu\n",
    "    i = 1\n",
    "    \n",
    "    phi = (1+math.sqrt(5))/2\n",
    "    \n",
    "    while (ea>es):\n",
    "        d = (phi-1)*(xu-xl)\n",
    "        x1 = xl + d\n",
    "        x2 = xu - d\n",
    "        if(f(x1)<f(x2)):\n",
    "            xl = x2\n",
    "            xmin = x1\n",
    "        else:\n",
    "            xu = x1\n",
    "            xmin = x2\n",
    "        # end if\n",
    "        \n",
    "        ea = ((2-phi)*(xu-xl)/xmin)*100\n",
    "        prv_xmin = xmin\n",
    "        i += 1\n",
    "    # end while\n",
    "    print('interval = [{},{}], xmin = {}, ea = {}'.format(xl,xu,xmin,ea))\n",
    "# end func"
   ]
  },
  {
   "cell_type": "code",
   "execution_count": 9,
   "metadata": {},
   "outputs": [],
   "source": [
    "def f(x):\n",
    "    return (x**5)-(3*(x**4))+5\n",
    "# end func"
   ]
  },
  {
   "cell_type": "code",
   "execution_count": 10,
   "metadata": {},
   "outputs": [
    {
     "name": "stdout",
     "output_type": "stream",
     "text": [
      "interval = [2.3998413432927554,2.400105771138163], xmin = 2.4000047686887895, ea = 0.0042084270286253415\n"
     ]
    }
   ],
   "source": [
    "xl = 0\n",
    "xu = 4\n",
    "p = 4\n",
    "gloden_min(f,xl,xu,p)"
   ]
  },
  {
   "cell_type": "markdown",
   "metadata": {},
   "source": [
    "<h2>TASK 4</h2>"
   ]
  },
  {
   "cell_type": "code",
   "execution_count": 11,
   "metadata": {},
   "outputs": [],
   "source": [
    "def gloden_max(f,xl,xu,p):\n",
    "    es = 0.5*(10**(2-p))\n",
    "    ea = 100\n",
    "    prv_max = xu\n",
    "    i = 1\n",
    "    \n",
    "    phi = (1+math.sqrt(5))/2\n",
    "    \n",
    "    while (ea>es):\n",
    "        d = (phi-1)*(xu-xl)\n",
    "        x1 = xl + d\n",
    "        x2 = xu - d\n",
    "        if(f(x1)>f(x2)):\n",
    "            xl = x2\n",
    "            xmax = x1\n",
    "        else:\n",
    "            xu = x1\n",
    "            xmax = x2\n",
    "        # end if\n",
    "        \n",
    "        ea = ((2-phi)*(xu-xl)/xmax)*100\n",
    "        prv_xmax = xmax\n",
    "        i += 1\n",
    "    # end while\n",
    "    print('interval = [{},{}], xmax = {}, ea = {}'.format(xl,xu,xmax,ea))\n",
    "# end func"
   ]
  },
  {
   "cell_type": "code",
   "execution_count": 12,
   "metadata": {},
   "outputs": [],
   "source": [
    "def f(x):\n",
    "    return x*(1-x)*(math.e**x)\n",
    "# end func"
   ]
  },
  {
   "cell_type": "code",
   "execution_count": 13,
   "metadata": {},
   "outputs": [
    {
     "name": "stdout",
     "output_type": "stream",
     "text": [
      "interval = [0.6180087381375514,0.6180592393622384], xmax = 0.6180280278889084, ea = 0.0031211774363727293\n"
     ]
    }
   ],
   "source": [
    "xl = 0\n",
    "xu = 2\n",
    "p = 4\n",
    "gloden_max(f,xl,xu,p)"
   ]
  },
  {
   "cell_type": "markdown",
   "metadata": {},
   "source": [
    "<h2>TASK 5</h2>"
   ]
  },
  {
   "cell_type": "code",
   "execution_count": 14,
   "metadata": {},
   "outputs": [],
   "source": [
    "def parabolic_min(f,x1,x2,x3,p):\n",
    "    es = 0.5*(10**(2-p))\n",
    "    ea = 100\n",
    "    prv_xmin = x2\n",
    "    i = 1\n",
    "    \n",
    "    while(ea > es):\n",
    "        alpha1 = (x2-x1)*(x2-x1)*(f(x2)-f(x3))\n",
    "        alpha2 = (x2-x3)*(x2-x3)*(f(x2)-f(x1))\n",
    "        beta1 = (x2-x1)*(f(x2)-f(x3))\n",
    "        beta2 = (x2-x3)*(f(x2)-f(x1))\n",
    "        gamma = (alpha1 - alpha2)/(beta1 - beta2)\n",
    "        \n",
    "        x4 = x2 - (0.5 * gamma);\n",
    "        \n",
    "        if(x4 < x2):\n",
    "            x1 = x2\n",
    "            x2 = x4\n",
    "            xmin = x4\n",
    "        else:\n",
    "            x3 = x2\n",
    "            x2 = x4\n",
    "            xmin = x4\n",
    "        # end if\n",
    "        ea = abs((xmin - prv_xmin)/xmin) * 100\n",
    "        prv_xmin = xmin\n",
    "        i += 1\n",
    "    # end while\n",
    "    print('interval = [{},{},{}], xmin = {}, ea = {}'.format(i,x1,x2,x3,xmin,ea))\n",
    "# end func"
   ]
  },
  {
   "cell_type": "code",
   "execution_count": 15,
   "metadata": {},
   "outputs": [],
   "source": [
    "def f(x):\n",
    "    return (x**5)-(3*(x**4))+5\n",
    "# end func"
   ]
  },
  {
   "cell_type": "code",
   "execution_count": 17,
   "metadata": {},
   "outputs": [
    {
     "name": "stdout",
     "output_type": "stream",
     "text": [
      "interval = [10103,0.006535324935938037,0.006534998284109767], xmin = 1.5, ea = 0.006534998284109767\n"
     ]
    }
   ],
   "source": [
    "x1 = 1\n",
    "x2 = 1.5\n",
    "x3 = 3.5\n",
    "p = 4\n",
    "parabolic_min(f,x1,x2,x3,p)"
   ]
  },
  {
   "cell_type": "markdown",
   "metadata": {},
   "source": [
    "<h2>TASK 6</h2>"
   ]
  },
  {
   "cell_type": "code",
   "execution_count": 18,
   "metadata": {},
   "outputs": [],
   "source": [
    "def f(x):\n",
    "    return x*(1-x)*(math.e**x)\n",
    "# end func"
   ]
  },
  {
   "cell_type": "code",
   "execution_count": 19,
   "metadata": {},
   "outputs": [
    {
     "name": "stdout",
     "output_type": "stream",
     "text": [
      "interval = [0.6180087381375514,0.6180592393622384], xmax = 0.6180280278889084, ea = 0.0031211774363727293\n"
     ]
    }
   ],
   "source": [
    "xl = 0\n",
    "xu = 2\n",
    "p = 4\n",
    "gloden_max(f,xl,xu,p)"
   ]
  },
  {
   "cell_type": "code",
   "execution_count": null,
   "metadata": {},
   "outputs": [],
   "source": []
  }
 ],
 "metadata": {
  "kernelspec": {
   "display_name": "Python 3",
   "language": "python",
   "name": "python3"
  },
  "language_info": {
   "codemirror_mode": {
    "name": "ipython",
    "version": 3
   },
   "file_extension": ".py",
   "mimetype": "text/x-python",
   "name": "python",
   "nbconvert_exporter": "python",
   "pygments_lexer": "ipython3",
   "version": "3.8.3"
  }
 },
 "nbformat": 4,
 "nbformat_minor": 4
}
